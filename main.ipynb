{
 "cells": [
  {
   "cell_type": "code",
   "execution_count": 1,
   "metadata": {},
   "outputs": [],
   "source": [
    "import re\n",
    "import pandas as pd\n",
    "import seaborn as sns\n",
    "import matplotlib.pyplot as plt\n",
    "\n",
    "# 指定画布风格\n",
    "plt.style.use(\"fivethirtyeight\")\n",
    "\n",
    "# 设置中文字体\n",
    "sns.set_style({'font.sans-serif':['simhei','Arial']})\n",
    "\n",
    "# 如果代码不在jupyter中执行，可以删掉\n",
    "%matplotlib inline "
   ]
  },
  {
   "cell_type": "code",
   "execution_count": 2,
   "metadata": {},
   "outputs": [
    {
     "data": {
      "text/html": [
       "<div>\n",
       "<style scoped>\n",
       "    .dataframe tbody tr th:only-of-type {\n",
       "        vertical-align: middle;\n",
       "    }\n",
       "\n",
       "    .dataframe tbody tr th {\n",
       "        vertical-align: top;\n",
       "    }\n",
       "\n",
       "    .dataframe thead th {\n",
       "        text-align: right;\n",
       "    }\n",
       "</style>\n",
       "<table border=\"1\" class=\"dataframe\">\n",
       "  <thead>\n",
       "    <tr style=\"text-align: right;\">\n",
       "      <th></th>\n",
       "      <th>houseId</th>\n",
       "      <th>houseTitle</th>\n",
       "      <th>houseTotalMoney</th>\n",
       "      <th>houseSinglePrice</th>\n",
       "      <th>houseDownPayment</th>\n",
       "      <th>houseGardenName</th>\n",
       "      <th>houseLocation</th>\n",
       "      <th>houseNumber</th>\n",
       "      <th>houseType</th>\n",
       "      <th>houseFloor</th>\n",
       "      <th>...</th>\n",
       "      <th>houseLastTrade</th>\n",
       "      <th>houseUsage</th>\n",
       "      <th>houseAgeLimit</th>\n",
       "      <th>housePrivilegeProperty</th>\n",
       "      <th>housePledge</th>\n",
       "      <th>houseRecord</th>\n",
       "      <th>houseImg</th>\n",
       "      <th>houseUrl</th>\n",
       "      <th>houseRefererUrl</th>\n",
       "      <th>houseCrawlTime</th>\n",
       "    </tr>\n",
       "  </thead>\n",
       "  <tbody>\n",
       "    <tr>\n",
       "      <th>0</th>\n",
       "      <td>1</td>\n",
       "      <td>春禧商务酒店    中楼层   采光好</td>\n",
       "      <td>118万</td>\n",
       "      <td>23629元/平米</td>\n",
       "      <td>36万</td>\n",
       "      <td>春禧商务酒店</td>\n",
       "      <td>锦江\\t盐市口\\t一环内</td>\n",
       "      <td>106102444217</td>\n",
       "      <td>1室0厅1厨1卫</td>\n",
       "      <td>中楼层(共14层)</td>\n",
       "      <td>...</td>\n",
       "      <td>2015-03-28</td>\n",
       "      <td>普通住宅</td>\n",
       "      <td>满两年</td>\n",
       "      <td>非共有</td>\n",
       "      <td>无抵押</td>\n",
       "      <td>已上传房本照片</td>\n",
       "      <td>NaN</td>\n",
       "      <td>https://cd.lianjia.com/ershoufang/106102444217...</td>\n",
       "      <td>https://cd.lianjia.com/ershoufang/pg7/</td>\n",
       "      <td>2019-07-17 10:56:40</td>\n",
       "    </tr>\n",
       "    <tr>\n",
       "      <th>1</th>\n",
       "      <td>2</td>\n",
       "      <td>时代水岸康城 有装修 有家具家电 可拎包入住</td>\n",
       "      <td>88万</td>\n",
       "      <td>11734元/平米</td>\n",
       "      <td>27万</td>\n",
       "      <td>时代水岸康城</td>\n",
       "      <td>郫都\\t红光</td>\n",
       "      <td>106101454157</td>\n",
       "      <td>3室2厅1厨1卫</td>\n",
       "      <td>低楼层(共25层)</td>\n",
       "      <td>...</td>\n",
       "      <td>暂无数据</td>\n",
       "      <td>普通住宅</td>\n",
       "      <td>暂无数据</td>\n",
       "      <td>非共有</td>\n",
       "      <td>有抵押10万元暂不清楚业主自还</td>\n",
       "      <td>未上传房本照片</td>\n",
       "      <td>https://image1.ljcdn.com/x-se/hdic-frame/prod-...</td>\n",
       "      <td>https://cd.lianjia.com/ershoufang/106101454157...</td>\n",
       "      <td>https://cd.lianjia.com/ershoufang/pg7/</td>\n",
       "      <td>2019-07-17 10:56:40</td>\n",
       "    </tr>\n",
       "    <tr>\n",
       "      <th>2</th>\n",
       "      <td>3</td>\n",
       "      <td>精装套二，高楼层，采光好，视野无遮挡。</td>\n",
       "      <td>128万</td>\n",
       "      <td>15473元/平米</td>\n",
       "      <td>39万</td>\n",
       "      <td>金辉枫尚</td>\n",
       "      <td>武侯\\t武侯立交\\t二至三环</td>\n",
       "      <td>106102939993</td>\n",
       "      <td>2室1厅1厨1卫</td>\n",
       "      <td>高楼层(共18层)</td>\n",
       "      <td>...</td>\n",
       "      <td>2014-09-03</td>\n",
       "      <td>普通住宅</td>\n",
       "      <td>满两年</td>\n",
       "      <td>共有</td>\n",
       "      <td>有抵押1万元</td>\n",
       "      <td>已上传房本照片</td>\n",
       "      <td>https://image1.ljcdn.com/x-se/hdic-frame/prod-...</td>\n",
       "      <td>https://cd.lianjia.com/ershoufang/106102939993...</td>\n",
       "      <td>https://cd.lianjia.com/ershoufang/pg7/</td>\n",
       "      <td>2019-07-17 10:56:40</td>\n",
       "    </tr>\n",
       "    <tr>\n",
       "      <th>3</th>\n",
       "      <td>4</td>\n",
       "      <td>纯中庭精装N户型，，朝东采光好</td>\n",
       "      <td>303万</td>\n",
       "      <td>34277元/平米</td>\n",
       "      <td>91万</td>\n",
       "      <td>中海兰庭</td>\n",
       "      <td>高新\\t大源\\t绕城高速至第二绕城高速</td>\n",
       "      <td>106102254366</td>\n",
       "      <td>4室1厅1厨2卫</td>\n",
       "      <td>低楼层(共32层)</td>\n",
       "      <td>...</td>\n",
       "      <td>2015-05-06</td>\n",
       "      <td>普通住宅</td>\n",
       "      <td>满两年</td>\n",
       "      <td>共有</td>\n",
       "      <td>有抵押50万元</td>\n",
       "      <td>已上传房本照片</td>\n",
       "      <td>https://image1.ljcdn.com/x-se/hdic-frame/prod-...</td>\n",
       "      <td>https://cd.lianjia.com/ershoufang/106102254366...</td>\n",
       "      <td>https://cd.lianjia.com/ershoufang/pg22/</td>\n",
       "      <td>2019-07-17 10:56:40</td>\n",
       "    </tr>\n",
       "    <tr>\n",
       "      <th>4</th>\n",
       "      <td>5</td>\n",
       "      <td>上置小套三 看房便利  随时咨询</td>\n",
       "      <td>86万</td>\n",
       "      <td>11945元/平米</td>\n",
       "      <td>26万</td>\n",
       "      <td>上置雅宾利</td>\n",
       "      <td>郫都\\t红光\\t绕城高速至第二绕城高速</td>\n",
       "      <td>106101689983</td>\n",
       "      <td>3室1厅1厨1卫</td>\n",
       "      <td>中楼层(共23层)</td>\n",
       "      <td>...</td>\n",
       "      <td>暂无数据</td>\n",
       "      <td>普通住宅</td>\n",
       "      <td>暂无数据</td>\n",
       "      <td>共有</td>\n",
       "      <td>有抵押26万元农行高新支行客户偿还</td>\n",
       "      <td>未上传房本照片</td>\n",
       "      <td>https://image1.ljcdn.com/x-se/hdic-frame/prod-...</td>\n",
       "      <td>https://cd.lianjia.com/ershoufang/106101689983...</td>\n",
       "      <td>https://cd.lianjia.com/ershoufang/pg35/</td>\n",
       "      <td>2019-07-17 10:56:40</td>\n",
       "    </tr>\n",
       "  </tbody>\n",
       "</table>\n",
       "<p>5 rows × 32 columns</p>\n",
       "</div>"
      ],
      "text/plain": [
       "   houseId              houseTitle houseTotalMoney houseSinglePrice  \\\n",
       "0        1     春禧商务酒店    中楼层   采光好            118万        23629元/平米   \n",
       "1        2  时代水岸康城 有装修 有家具家电 可拎包入住             88万        11734元/平米   \n",
       "2        3     精装套二，高楼层，采光好，视野无遮挡。            128万        15473元/平米   \n",
       "3        4         纯中庭精装N户型，，朝东采光好            303万        34277元/平米   \n",
       "4        5        上置小套三 看房便利  随时咨询             86万        11945元/平米   \n",
       "\n",
       "  houseDownPayment houseGardenName        houseLocation   houseNumber  \\\n",
       "0              36万          春禧商务酒店         锦江\\t盐市口\\t一环内  106102444217   \n",
       "1              27万          时代水岸康城               郫都\\t红光  106101454157   \n",
       "2              39万            金辉枫尚       武侯\\t武侯立交\\t二至三环  106102939993   \n",
       "3              91万            中海兰庭  高新\\t大源\\t绕城高速至第二绕城高速  106102254366   \n",
       "4              26万           上置雅宾利  郫都\\t红光\\t绕城高速至第二绕城高速  106101689983   \n",
       "\n",
       "  houseType houseFloor  ... houseLastTrade houseUsage houseAgeLimit  \\\n",
       "0  1室0厅1厨1卫  中楼层(共14层)  ...     2015-03-28       普通住宅           满两年   \n",
       "1  3室2厅1厨1卫  低楼层(共25层)  ...           暂无数据       普通住宅          暂无数据   \n",
       "2  2室1厅1厨1卫  高楼层(共18层)  ...     2014-09-03       普通住宅           满两年   \n",
       "3  4室1厅1厨2卫  低楼层(共32层)  ...     2015-05-06       普通住宅           满两年   \n",
       "4  3室1厅1厨1卫  中楼层(共23层)  ...           暂无数据       普通住宅          暂无数据   \n",
       "\n",
       "  housePrivilegeProperty        housePledge houseRecord  \\\n",
       "0                    非共有                无抵押     已上传房本照片   \n",
       "1                    非共有    有抵押10万元暂不清楚业主自还     未上传房本照片   \n",
       "2                     共有             有抵押1万元     已上传房本照片   \n",
       "3                     共有            有抵押50万元     已上传房本照片   \n",
       "4                     共有  有抵押26万元农行高新支行客户偿还     未上传房本照片   \n",
       "\n",
       "                                            houseImg  \\\n",
       "0                                                NaN   \n",
       "1  https://image1.ljcdn.com/x-se/hdic-frame/prod-...   \n",
       "2  https://image1.ljcdn.com/x-se/hdic-frame/prod-...   \n",
       "3  https://image1.ljcdn.com/x-se/hdic-frame/prod-...   \n",
       "4  https://image1.ljcdn.com/x-se/hdic-frame/prod-...   \n",
       "\n",
       "                                            houseUrl  \\\n",
       "0  https://cd.lianjia.com/ershoufang/106102444217...   \n",
       "1  https://cd.lianjia.com/ershoufang/106101454157...   \n",
       "2  https://cd.lianjia.com/ershoufang/106102939993...   \n",
       "3  https://cd.lianjia.com/ershoufang/106102254366...   \n",
       "4  https://cd.lianjia.com/ershoufang/106101689983...   \n",
       "\n",
       "                           houseRefererUrl       houseCrawlTime  \n",
       "0   https://cd.lianjia.com/ershoufang/pg7/  2019-07-17 10:56:40  \n",
       "1   https://cd.lianjia.com/ershoufang/pg7/  2019-07-17 10:56:40  \n",
       "2   https://cd.lianjia.com/ershoufang/pg7/  2019-07-17 10:56:40  \n",
       "3  https://cd.lianjia.com/ershoufang/pg22/  2019-07-17 10:56:40  \n",
       "4  https://cd.lianjia.com/ershoufang/pg35/  2019-07-17 10:56:40  \n",
       "\n",
       "[5 rows x 32 columns]"
      ]
     },
     "execution_count": 2,
     "metadata": {},
     "output_type": "execute_result"
    }
   ],
   "source": [
    "house_df = pd.read_excel('house.xlsx')\n",
    "# 看一下数据长什么样子\n",
    "house_df.head()"
   ]
  },
  {
   "cell_type": "code",
   "execution_count": 3,
   "metadata": {},
   "outputs": [
    {
     "name": "stdout",
     "output_type": "stream",
     "text": [
      "<class 'pandas.core.frame.DataFrame'>\n",
      "RangeIndex: 2993 entries, 0 to 2992\n",
      "Data columns (total 32 columns):\n",
      "houseId                   2993 non-null int64\n",
      "houseTitle                2993 non-null object\n",
      "houseTotalMoney           2993 non-null object\n",
      "houseSinglePrice          2993 non-null object\n",
      "houseDownPayment          2993 non-null object\n",
      "houseGardenName           2993 non-null object\n",
      "houseLocation             2993 non-null object\n",
      "houseNumber               2993 non-null int64\n",
      "houseType                 2993 non-null object\n",
      "houseFloor                2993 non-null object\n",
      "houseBuildingArea         2993 non-null object\n",
      "houseStructure            2993 non-null object\n",
      "houseInnerArea            2993 non-null object\n",
      "houseBuildingType         2993 non-null object\n",
      "houseOrientation          2993 non-null object\n",
      "houseBuildingStructure    2993 non-null object\n",
      "houseDecoration           2993 non-null object\n",
      "houseElevatorRatio        2985 non-null object\n",
      "houseElevator             2985 non-null object\n",
      "housePrivilege            2985 non-null object\n",
      "houseListDate             2993 non-null object\n",
      "houseTradeProperty        2993 non-null object\n",
      "houseLastTrade            2993 non-null object\n",
      "houseUsage                2993 non-null object\n",
      "houseAgeLimit             2993 non-null object\n",
      "housePrivilegeProperty    2993 non-null object\n",
      "housePledge               2993 non-null object\n",
      "houseRecord               2993 non-null object\n",
      "houseImg                  2890 non-null object\n",
      "houseUrl                  2993 non-null object\n",
      "houseRefererUrl           2993 non-null object\n",
      "houseCrawlTime            2993 non-null object\n",
      "dtypes: int64(2), object(30)\n",
      "memory usage: 748.3+ KB\n"
     ]
    }
   ],
   "source": [
    "# 查看确实值情况\n",
    "house_df.info()"
   ]
  },
  {
   "cell_type": "code",
   "execution_count": 4,
   "metadata": {},
   "outputs": [],
   "source": [
    "house_df.dropna(inplace=True)"
   ]
  },
  {
   "cell_type": "code",
   "execution_count": 5,
   "metadata": {},
   "outputs": [
    {
     "data": {
      "text/html": [
       "<div>\n",
       "<style scoped>\n",
       "    .dataframe tbody tr th:only-of-type {\n",
       "        vertical-align: middle;\n",
       "    }\n",
       "\n",
       "    .dataframe tbody tr th {\n",
       "        vertical-align: top;\n",
       "    }\n",
       "\n",
       "    .dataframe thead th {\n",
       "        text-align: right;\n",
       "    }\n",
       "</style>\n",
       "<table border=\"1\" class=\"dataframe\">\n",
       "  <thead>\n",
       "    <tr style=\"text-align: right;\">\n",
       "      <th></th>\n",
       "      <th>houseId</th>\n",
       "      <th>houseNumber</th>\n",
       "    </tr>\n",
       "  </thead>\n",
       "  <tbody>\n",
       "    <tr>\n",
       "      <th>count</th>\n",
       "      <td>2886.000000</td>\n",
       "      <td>2.886000e+03</td>\n",
       "    </tr>\n",
       "    <tr>\n",
       "      <th>mean</th>\n",
       "      <td>1490.764380</td>\n",
       "      <td>1.061025e+11</td>\n",
       "    </tr>\n",
       "    <tr>\n",
       "      <th>std</th>\n",
       "      <td>865.249813</td>\n",
       "      <td>4.928009e+05</td>\n",
       "    </tr>\n",
       "    <tr>\n",
       "      <th>min</th>\n",
       "      <td>2.000000</td>\n",
       "      <td>1.061000e+11</td>\n",
       "    </tr>\n",
       "    <tr>\n",
       "      <th>25%</th>\n",
       "      <td>739.250000</td>\n",
       "      <td>1.061023e+11</td>\n",
       "    </tr>\n",
       "    <tr>\n",
       "      <th>50%</th>\n",
       "      <td>1490.500000</td>\n",
       "      <td>1.061026e+11</td>\n",
       "    </tr>\n",
       "    <tr>\n",
       "      <th>75%</th>\n",
       "      <td>2235.750000</td>\n",
       "      <td>1.061028e+11</td>\n",
       "    </tr>\n",
       "    <tr>\n",
       "      <th>max</th>\n",
       "      <td>2993.000000</td>\n",
       "      <td>1.061030e+11</td>\n",
       "    </tr>\n",
       "  </tbody>\n",
       "</table>\n",
       "</div>"
      ],
      "text/plain": [
       "           houseId   houseNumber\n",
       "count  2886.000000  2.886000e+03\n",
       "mean   1490.764380  1.061025e+11\n",
       "std     865.249813  4.928009e+05\n",
       "min       2.000000  1.061000e+11\n",
       "25%     739.250000  1.061023e+11\n",
       "50%    1490.500000  1.061026e+11\n",
       "75%    2235.750000  1.061028e+11\n",
       "max    2993.000000  1.061030e+11"
      ]
     },
     "execution_count": 5,
     "metadata": {},
     "output_type": "execute_result"
    }
   ],
   "source": [
    "house_df.describe()"
   ]
  },
  {
   "cell_type": "code",
   "execution_count": 6,
   "metadata": {},
   "outputs": [],
   "source": [
    "# 做一部分预处理\n",
    "house_df['houseTotalMoney'] = house_df['houseTotalMoney'].apply(lambda x: float(x.replace('万', '')))\n",
    "house_df['houseSinglePrice'] = house_df['houseSinglePrice'].apply(lambda x: float(x.replace('元/平米', '')))\n",
    "house_df['houseDownPayment'] = house_df['houseDownPayment'].apply(lambda x: float(x.replace('万', '')))\n",
    "house_df['houseBuildingArea'] = house_df['houseBuildingArea'].apply(lambda x: float(x.replace('㎡', '')))\n",
    "house_df['totalFloor'] = house_df['houseFloor'].apply(lambda x:re.search('\\d+', x).group())"
   ]
  },
  {
   "cell_type": "code",
   "execution_count": 7,
   "metadata": {},
   "outputs": [
    {
     "data": {
      "text/html": [
       "<div>\n",
       "<style scoped>\n",
       "    .dataframe tbody tr th:only-of-type {\n",
       "        vertical-align: middle;\n",
       "    }\n",
       "\n",
       "    .dataframe tbody tr th {\n",
       "        vertical-align: top;\n",
       "    }\n",
       "\n",
       "    .dataframe thead th {\n",
       "        text-align: right;\n",
       "    }\n",
       "</style>\n",
       "<table border=\"1\" class=\"dataframe\">\n",
       "  <thead>\n",
       "    <tr style=\"text-align: right;\">\n",
       "      <th></th>\n",
       "      <th>houseId</th>\n",
       "      <th>houseTitle</th>\n",
       "      <th>houseTotalMoney</th>\n",
       "      <th>houseSinglePrice</th>\n",
       "      <th>houseDownPayment</th>\n",
       "      <th>houseGardenName</th>\n",
       "      <th>houseLocation</th>\n",
       "      <th>houseNumber</th>\n",
       "      <th>houseType</th>\n",
       "      <th>houseFloor</th>\n",
       "      <th>...</th>\n",
       "      <th>houseUsage</th>\n",
       "      <th>houseAgeLimit</th>\n",
       "      <th>housePrivilegeProperty</th>\n",
       "      <th>housePledge</th>\n",
       "      <th>houseRecord</th>\n",
       "      <th>houseImg</th>\n",
       "      <th>houseUrl</th>\n",
       "      <th>houseRefererUrl</th>\n",
       "      <th>houseCrawlTime</th>\n",
       "      <th>totalFloor</th>\n",
       "    </tr>\n",
       "  </thead>\n",
       "  <tbody>\n",
       "    <tr>\n",
       "      <th>1</th>\n",
       "      <td>2</td>\n",
       "      <td>时代水岸康城 有装修 有家具家电 可拎包入住</td>\n",
       "      <td>88.0</td>\n",
       "      <td>11734.0</td>\n",
       "      <td>27.0</td>\n",
       "      <td>时代水岸康城</td>\n",
       "      <td>郫都\\t红光</td>\n",
       "      <td>106101454157</td>\n",
       "      <td>3室2厅1厨1卫</td>\n",
       "      <td>低楼层(共25层)</td>\n",
       "      <td>...</td>\n",
       "      <td>普通住宅</td>\n",
       "      <td>暂无数据</td>\n",
       "      <td>非共有</td>\n",
       "      <td>有抵押10万元暂不清楚业主自还</td>\n",
       "      <td>未上传房本照片</td>\n",
       "      <td>https://image1.ljcdn.com/x-se/hdic-frame/prod-...</td>\n",
       "      <td>https://cd.lianjia.com/ershoufang/106101454157...</td>\n",
       "      <td>https://cd.lianjia.com/ershoufang/pg7/</td>\n",
       "      <td>2019-07-17 10:56:40</td>\n",
       "      <td>25</td>\n",
       "    </tr>\n",
       "    <tr>\n",
       "      <th>2</th>\n",
       "      <td>3</td>\n",
       "      <td>精装套二，高楼层，采光好，视野无遮挡。</td>\n",
       "      <td>128.0</td>\n",
       "      <td>15473.0</td>\n",
       "      <td>39.0</td>\n",
       "      <td>金辉枫尚</td>\n",
       "      <td>武侯\\t武侯立交\\t二至三环</td>\n",
       "      <td>106102939993</td>\n",
       "      <td>2室1厅1厨1卫</td>\n",
       "      <td>高楼层(共18层)</td>\n",
       "      <td>...</td>\n",
       "      <td>普通住宅</td>\n",
       "      <td>满两年</td>\n",
       "      <td>共有</td>\n",
       "      <td>有抵押1万元</td>\n",
       "      <td>已上传房本照片</td>\n",
       "      <td>https://image1.ljcdn.com/x-se/hdic-frame/prod-...</td>\n",
       "      <td>https://cd.lianjia.com/ershoufang/106102939993...</td>\n",
       "      <td>https://cd.lianjia.com/ershoufang/pg7/</td>\n",
       "      <td>2019-07-17 10:56:40</td>\n",
       "      <td>18</td>\n",
       "    </tr>\n",
       "    <tr>\n",
       "      <th>3</th>\n",
       "      <td>4</td>\n",
       "      <td>纯中庭精装N户型，，朝东采光好</td>\n",
       "      <td>303.0</td>\n",
       "      <td>34277.0</td>\n",
       "      <td>91.0</td>\n",
       "      <td>中海兰庭</td>\n",
       "      <td>高新\\t大源\\t绕城高速至第二绕城高速</td>\n",
       "      <td>106102254366</td>\n",
       "      <td>4室1厅1厨2卫</td>\n",
       "      <td>低楼层(共32层)</td>\n",
       "      <td>...</td>\n",
       "      <td>普通住宅</td>\n",
       "      <td>满两年</td>\n",
       "      <td>共有</td>\n",
       "      <td>有抵押50万元</td>\n",
       "      <td>已上传房本照片</td>\n",
       "      <td>https://image1.ljcdn.com/x-se/hdic-frame/prod-...</td>\n",
       "      <td>https://cd.lianjia.com/ershoufang/106102254366...</td>\n",
       "      <td>https://cd.lianjia.com/ershoufang/pg22/</td>\n",
       "      <td>2019-07-17 10:56:40</td>\n",
       "      <td>32</td>\n",
       "    </tr>\n",
       "    <tr>\n",
       "      <th>4</th>\n",
       "      <td>5</td>\n",
       "      <td>上置小套三 看房便利  随时咨询</td>\n",
       "      <td>86.0</td>\n",
       "      <td>11945.0</td>\n",
       "      <td>26.0</td>\n",
       "      <td>上置雅宾利</td>\n",
       "      <td>郫都\\t红光\\t绕城高速至第二绕城高速</td>\n",
       "      <td>106101689983</td>\n",
       "      <td>3室1厅1厨1卫</td>\n",
       "      <td>中楼层(共23层)</td>\n",
       "      <td>...</td>\n",
       "      <td>普通住宅</td>\n",
       "      <td>暂无数据</td>\n",
       "      <td>共有</td>\n",
       "      <td>有抵押26万元农行高新支行客户偿还</td>\n",
       "      <td>未上传房本照片</td>\n",
       "      <td>https://image1.ljcdn.com/x-se/hdic-frame/prod-...</td>\n",
       "      <td>https://cd.lianjia.com/ershoufang/106101689983...</td>\n",
       "      <td>https://cd.lianjia.com/ershoufang/pg35/</td>\n",
       "      <td>2019-07-17 10:56:40</td>\n",
       "      <td>23</td>\n",
       "    </tr>\n",
       "    <tr>\n",
       "      <th>5</th>\n",
       "      <td>6</td>\n",
       "      <td>青羊区信托单位房标准三居室小区可停车</td>\n",
       "      <td>225.0</td>\n",
       "      <td>16065.0</td>\n",
       "      <td>68.0</td>\n",
       "      <td>文庙公寓</td>\n",
       "      <td>青羊\\t人民公园\\t一环内</td>\n",
       "      <td>106102933675</td>\n",
       "      <td>3室2厅1厨2卫</td>\n",
       "      <td>低楼层(共7层)</td>\n",
       "      <td>...</td>\n",
       "      <td>普通住宅</td>\n",
       "      <td>暂无数据</td>\n",
       "      <td>非共有</td>\n",
       "      <td>无抵押</td>\n",
       "      <td>未上传房本照片</td>\n",
       "      <td>https://image1.ljcdn.com/x-se/hdic-frame/prod-...</td>\n",
       "      <td>https://cd.lianjia.com/ershoufang/106102933675...</td>\n",
       "      <td>https://cd.lianjia.com/ershoufang/pg35/</td>\n",
       "      <td>2019-07-17 10:56:40</td>\n",
       "      <td>7</td>\n",
       "    </tr>\n",
       "  </tbody>\n",
       "</table>\n",
       "<p>5 rows × 33 columns</p>\n",
       "</div>"
      ],
      "text/plain": [
       "   houseId              houseTitle  houseTotalMoney  houseSinglePrice  \\\n",
       "1        2  时代水岸康城 有装修 有家具家电 可拎包入住             88.0           11734.0   \n",
       "2        3     精装套二，高楼层，采光好，视野无遮挡。            128.0           15473.0   \n",
       "3        4         纯中庭精装N户型，，朝东采光好            303.0           34277.0   \n",
       "4        5        上置小套三 看房便利  随时咨询             86.0           11945.0   \n",
       "5        6      青羊区信托单位房标准三居室小区可停车            225.0           16065.0   \n",
       "\n",
       "   houseDownPayment houseGardenName        houseLocation   houseNumber  \\\n",
       "1              27.0          时代水岸康城               郫都\\t红光  106101454157   \n",
       "2              39.0            金辉枫尚       武侯\\t武侯立交\\t二至三环  106102939993   \n",
       "3              91.0            中海兰庭  高新\\t大源\\t绕城高速至第二绕城高速  106102254366   \n",
       "4              26.0           上置雅宾利  郫都\\t红光\\t绕城高速至第二绕城高速  106101689983   \n",
       "5              68.0            文庙公寓        青羊\\t人民公园\\t一环内  106102933675   \n",
       "\n",
       "  houseType houseFloor  ...  houseUsage houseAgeLimit housePrivilegeProperty  \\\n",
       "1  3室2厅1厨1卫  低楼层(共25层)  ...        普通住宅          暂无数据                    非共有   \n",
       "2  2室1厅1厨1卫  高楼层(共18层)  ...        普通住宅           满两年                     共有   \n",
       "3  4室1厅1厨2卫  低楼层(共32层)  ...        普通住宅           满两年                     共有   \n",
       "4  3室1厅1厨1卫  中楼层(共23层)  ...        普通住宅          暂无数据                     共有   \n",
       "5  3室2厅1厨2卫   低楼层(共7层)  ...        普通住宅          暂无数据                    非共有   \n",
       "\n",
       "         housePledge houseRecord  \\\n",
       "1    有抵押10万元暂不清楚业主自还     未上传房本照片   \n",
       "2             有抵押1万元     已上传房本照片   \n",
       "3            有抵押50万元     已上传房本照片   \n",
       "4  有抵押26万元农行高新支行客户偿还     未上传房本照片   \n",
       "5                无抵押     未上传房本照片   \n",
       "\n",
       "                                            houseImg  \\\n",
       "1  https://image1.ljcdn.com/x-se/hdic-frame/prod-...   \n",
       "2  https://image1.ljcdn.com/x-se/hdic-frame/prod-...   \n",
       "3  https://image1.ljcdn.com/x-se/hdic-frame/prod-...   \n",
       "4  https://image1.ljcdn.com/x-se/hdic-frame/prod-...   \n",
       "5  https://image1.ljcdn.com/x-se/hdic-frame/prod-...   \n",
       "\n",
       "                                            houseUrl  \\\n",
       "1  https://cd.lianjia.com/ershoufang/106101454157...   \n",
       "2  https://cd.lianjia.com/ershoufang/106102939993...   \n",
       "3  https://cd.lianjia.com/ershoufang/106102254366...   \n",
       "4  https://cd.lianjia.com/ershoufang/106101689983...   \n",
       "5  https://cd.lianjia.com/ershoufang/106102933675...   \n",
       "\n",
       "                           houseRefererUrl       houseCrawlTime totalFloor  \n",
       "1   https://cd.lianjia.com/ershoufang/pg7/  2019-07-17 10:56:40         25  \n",
       "2   https://cd.lianjia.com/ershoufang/pg7/  2019-07-17 10:56:40         18  \n",
       "3  https://cd.lianjia.com/ershoufang/pg22/  2019-07-17 10:56:40         32  \n",
       "4  https://cd.lianjia.com/ershoufang/pg35/  2019-07-17 10:56:40         23  \n",
       "5  https://cd.lianjia.com/ershoufang/pg35/  2019-07-17 10:56:40          7  \n",
       "\n",
       "[5 rows x 33 columns]"
      ]
     },
     "execution_count": 7,
     "metadata": {},
     "output_type": "execute_result"
    }
   ],
   "source": [
    "house_df.head()"
   ]
  },
  {
   "cell_type": "code",
   "execution_count": 8,
   "metadata": {},
   "outputs": [
    {
     "data": {
      "text/html": [
       "<div>\n",
       "<style scoped>\n",
       "    .dataframe tbody tr th:only-of-type {\n",
       "        vertical-align: middle;\n",
       "    }\n",
       "\n",
       "    .dataframe tbody tr th {\n",
       "        vertical-align: top;\n",
       "    }\n",
       "\n",
       "    .dataframe thead th {\n",
       "        text-align: right;\n",
       "    }\n",
       "</style>\n",
       "<table border=\"1\" class=\"dataframe\">\n",
       "  <thead>\n",
       "    <tr style=\"text-align: right;\">\n",
       "      <th></th>\n",
       "      <th>houseId</th>\n",
       "      <th>houseTotalMoney</th>\n",
       "      <th>houseSinglePrice</th>\n",
       "      <th>houseDownPayment</th>\n",
       "      <th>houseNumber</th>\n",
       "      <th>houseBuildingArea</th>\n",
       "    </tr>\n",
       "  </thead>\n",
       "  <tbody>\n",
       "    <tr>\n",
       "      <th>count</th>\n",
       "      <td>2886.000000</td>\n",
       "      <td>2886.000000</td>\n",
       "      <td>2886.000000</td>\n",
       "      <td>2886.000000</td>\n",
       "      <td>2.886000e+03</td>\n",
       "      <td>2886.000000</td>\n",
       "    </tr>\n",
       "    <tr>\n",
       "      <th>mean</th>\n",
       "      <td>1490.764380</td>\n",
       "      <td>143.652772</td>\n",
       "      <td>15685.462924</td>\n",
       "      <td>43.465350</td>\n",
       "      <td>1.061025e+11</td>\n",
       "      <td>90.377585</td>\n",
       "    </tr>\n",
       "    <tr>\n",
       "      <th>std</th>\n",
       "      <td>865.249813</td>\n",
       "      <td>80.367330</td>\n",
       "      <td>5184.566435</td>\n",
       "      <td>24.072076</td>\n",
       "      <td>4.928009e+05</td>\n",
       "      <td>29.242237</td>\n",
       "    </tr>\n",
       "    <tr>\n",
       "      <th>min</th>\n",
       "      <td>2.000000</td>\n",
       "      <td>32.000000</td>\n",
       "      <td>5129.000000</td>\n",
       "      <td>10.000000</td>\n",
       "      <td>1.061000e+11</td>\n",
       "      <td>28.510000</td>\n",
       "    </tr>\n",
       "    <tr>\n",
       "      <th>25%</th>\n",
       "      <td>739.250000</td>\n",
       "      <td>95.000000</td>\n",
       "      <td>11970.500000</td>\n",
       "      <td>29.000000</td>\n",
       "      <td>1.061023e+11</td>\n",
       "      <td>73.292500</td>\n",
       "    </tr>\n",
       "    <tr>\n",
       "      <th>50%</th>\n",
       "      <td>1490.500000</td>\n",
       "      <td>125.000000</td>\n",
       "      <td>14745.500000</td>\n",
       "      <td>38.000000</td>\n",
       "      <td>1.061026e+11</td>\n",
       "      <td>86.150000</td>\n",
       "    </tr>\n",
       "    <tr>\n",
       "      <th>75%</th>\n",
       "      <td>2235.750000</td>\n",
       "      <td>167.750000</td>\n",
       "      <td>18324.750000</td>\n",
       "      <td>51.000000</td>\n",
       "      <td>1.061028e+11</td>\n",
       "      <td>103.165000</td>\n",
       "    </tr>\n",
       "    <tr>\n",
       "      <th>max</th>\n",
       "      <td>2993.000000</td>\n",
       "      <td>1100.000000</td>\n",
       "      <td>44846.000000</td>\n",
       "      <td>330.000000</td>\n",
       "      <td>1.061030e+11</td>\n",
       "      <td>380.000000</td>\n",
       "    </tr>\n",
       "  </tbody>\n",
       "</table>\n",
       "</div>"
      ],
      "text/plain": [
       "           houseId  houseTotalMoney  houseSinglePrice  houseDownPayment  \\\n",
       "count  2886.000000      2886.000000       2886.000000       2886.000000   \n",
       "mean   1490.764380       143.652772      15685.462924         43.465350   \n",
       "std     865.249813        80.367330       5184.566435         24.072076   \n",
       "min       2.000000        32.000000       5129.000000         10.000000   \n",
       "25%     739.250000        95.000000      11970.500000         29.000000   \n",
       "50%    1490.500000       125.000000      14745.500000         38.000000   \n",
       "75%    2235.750000       167.750000      18324.750000         51.000000   \n",
       "max    2993.000000      1100.000000      44846.000000        330.000000   \n",
       "\n",
       "        houseNumber  houseBuildingArea  \n",
       "count  2.886000e+03        2886.000000  \n",
       "mean   1.061025e+11          90.377585  \n",
       "std    4.928009e+05          29.242237  \n",
       "min    1.061000e+11          28.510000  \n",
       "25%    1.061023e+11          73.292500  \n",
       "50%    1.061026e+11          86.150000  \n",
       "75%    1.061028e+11         103.165000  \n",
       "max    1.061030e+11         380.000000  "
      ]
     },
     "execution_count": 8,
     "metadata": {},
     "output_type": "execute_result"
    }
   ],
   "source": [
    "# 再次观察有异常值\n",
    "house_df.describe() # houseNumber为房屋编号  不用管"
   ]
  },
  {
   "cell_type": "code",
   "execution_count": 9,
   "metadata": {},
   "outputs": [],
   "source": [
    "# houseLocation字段表示区域，我们取前两个字，然后方便分区统计\n",
    "house_df['Region'] = house_df['houseLocation'].apply(lambda x:x[:2])"
   ]
  },
  {
   "cell_type": "markdown",
   "metadata": {},
   "source": [
    "---\n",
    "# 可视化分析"
   ]
  },
  {
   "cell_type": "code",
   "execution_count": 10,
   "metadata": {},
   "outputs": [],
   "source": [
    "# 按区域分析数量和价格\n",
    "df_house_count = house_df.groupby('Region')['houseId'].count().sort_values(ascending=False).to_frame().reset_index()\n",
    "df_house_mean = house_df.groupby('Region')['houseSinglePrice'].mean().sort_values(ascending=False).to_frame().reset_index()"
   ]
  },
  {
   "cell_type": "code",
   "execution_count": 11,
   "metadata": {},
   "outputs": [
    {
     "data": {
      "text/html": [
       "<div>\n",
       "<style scoped>\n",
       "    .dataframe tbody tr th:only-of-type {\n",
       "        vertical-align: middle;\n",
       "    }\n",
       "\n",
       "    .dataframe tbody tr th {\n",
       "        vertical-align: top;\n",
       "    }\n",
       "\n",
       "    .dataframe thead th {\n",
       "        text-align: right;\n",
       "    }\n",
       "</style>\n",
       "<table border=\"1\" class=\"dataframe\">\n",
       "  <thead>\n",
       "    <tr style=\"text-align: right;\">\n",
       "      <th></th>\n",
       "      <th>Region</th>\n",
       "      <th>houseId</th>\n",
       "    </tr>\n",
       "  </thead>\n",
       "  <tbody>\n",
       "    <tr>\n",
       "      <th>0</th>\n",
       "      <td>高新</td>\n",
       "      <td>354</td>\n",
       "    </tr>\n",
       "    <tr>\n",
       "      <th>1</th>\n",
       "      <td>成华</td>\n",
       "      <td>323</td>\n",
       "    </tr>\n",
       "    <tr>\n",
       "      <th>2</th>\n",
       "      <td>青羊</td>\n",
       "      <td>293</td>\n",
       "    </tr>\n",
       "    <tr>\n",
       "      <th>3</th>\n",
       "      <td>武侯</td>\n",
       "      <td>276</td>\n",
       "    </tr>\n",
       "    <tr>\n",
       "      <th>4</th>\n",
       "      <td>温江</td>\n",
       "      <td>245</td>\n",
       "    </tr>\n",
       "  </tbody>\n",
       "</table>\n",
       "</div>"
      ],
      "text/plain": [
       "  Region  houseId\n",
       "0     高新      354\n",
       "1     成华      323\n",
       "2     青羊      293\n",
       "3     武侯      276\n",
       "4     温江      245"
      ]
     },
     "execution_count": 11,
     "metadata": {},
     "output_type": "execute_result"
    }
   ],
   "source": [
    "df_house_count.head()"
   ]
  },
  {
   "cell_type": "code",
   "execution_count": 12,
   "metadata": {},
   "outputs": [
    {
     "data": {
      "text/html": [
       "<div>\n",
       "<style scoped>\n",
       "    .dataframe tbody tr th:only-of-type {\n",
       "        vertical-align: middle;\n",
       "    }\n",
       "\n",
       "    .dataframe tbody tr th {\n",
       "        vertical-align: top;\n",
       "    }\n",
       "\n",
       "    .dataframe thead th {\n",
       "        text-align: right;\n",
       "    }\n",
       "</style>\n",
       "<table border=\"1\" class=\"dataframe\">\n",
       "  <thead>\n",
       "    <tr style=\"text-align: right;\">\n",
       "      <th></th>\n",
       "      <th>Region</th>\n",
       "      <th>houseSinglePrice</th>\n",
       "    </tr>\n",
       "  </thead>\n",
       "  <tbody>\n",
       "    <tr>\n",
       "      <th>0</th>\n",
       "      <td>锦江</td>\n",
       "      <td>20255.594470</td>\n",
       "    </tr>\n",
       "    <tr>\n",
       "      <th>1</th>\n",
       "      <td>高新</td>\n",
       "      <td>20024.313559</td>\n",
       "    </tr>\n",
       "    <tr>\n",
       "      <th>2</th>\n",
       "      <td>青羊</td>\n",
       "      <td>18808.614334</td>\n",
       "    </tr>\n",
       "    <tr>\n",
       "      <th>3</th>\n",
       "      <td>成华</td>\n",
       "      <td>17008.643963</td>\n",
       "    </tr>\n",
       "    <tr>\n",
       "      <th>4</th>\n",
       "      <td>武侯</td>\n",
       "      <td>16596.576087</td>\n",
       "    </tr>\n",
       "  </tbody>\n",
       "</table>\n",
       "</div>"
      ],
      "text/plain": [
       "  Region  houseSinglePrice\n",
       "0     锦江      20255.594470\n",
       "1     高新      20024.313559\n",
       "2     青羊      18808.614334\n",
       "3     成华      17008.643963\n",
       "4     武侯      16596.576087"
      ]
     },
     "execution_count": 12,
     "metadata": {},
     "output_type": "execute_result"
    }
   ],
   "source": [
    "df_house_mean.head()"
   ]
  },
  {
   "cell_type": "code",
   "execution_count": 13,
   "metadata": {},
   "outputs": [
    {
     "data": {
      "text/plain": [
       "<matplotlib.axes._subplots.AxesSubplot at 0x223ca6b66a0>"
      ]
     },
     "execution_count": 13,
     "metadata": {},
     "output_type": "execute_result"
    },
    {
     "data": {
      "text/plain": [
       "Text(0.5, 1.0, '成都各区二手房每平米单价对比')"
      ]
     },
     "execution_count": 13,
     "metadata": {},
     "output_type": "execute_result"
    },
    {
     "data": {
      "text/plain": [
       "Text(0.5, 0, '区域')"
      ]
     },
     "execution_count": 13,
     "metadata": {},
     "output_type": "execute_result"
    },
    {
     "data": {
      "text/plain": [
       "Text(0, 0.5, '每平米单价')"
      ]
     },
     "execution_count": 13,
     "metadata": {},
     "output_type": "execute_result"
    },
    {
     "data": {
      "text/plain": [
       "<matplotlib.axes._subplots.AxesSubplot at 0x223cc6ee6d8>"
      ]
     },
     "execution_count": 13,
     "metadata": {},
     "output_type": "execute_result"
    },
    {
     "data": {
      "text/plain": [
       "Text(0.5, 1.0, '成都各区二手房数量对比')"
      ]
     },
     "execution_count": 13,
     "metadata": {},
     "output_type": "execute_result"
    },
    {
     "data": {
      "text/plain": [
       "Text(0.5, 0, '区域')"
      ]
     },
     "execution_count": 13,
     "metadata": {},
     "output_type": "execute_result"
    },
    {
     "data": {
      "text/plain": [
       "Text(0, 0.5, '数量')"
      ]
     },
     "execution_count": 13,
     "metadata": {},
     "output_type": "execute_result"
    },
    {
     "data": {
      "text/plain": [
       "<matplotlib.axes._subplots.AxesSubplot at 0x223c947abe0>"
      ]
     },
     "execution_count": 13,
     "metadata": {},
     "output_type": "execute_result"
    },
    {
     "data": {
      "text/plain": [
       "Text(0.5, 1.0, '成都各区二手房房屋总价')"
      ]
     },
     "execution_count": 13,
     "metadata": {},
     "output_type": "execute_result"
    },
    {
     "data": {
      "text/plain": [
       "Text(0.5, 0, '区域')"
      ]
     },
     "execution_count": 13,
     "metadata": {},
     "output_type": "execute_result"
    },
    {
     "data": {
      "text/plain": [
       "Text(0, 0.5, '房屋总价')"
      ]
     },
     "execution_count": 13,
     "metadata": {},
     "output_type": "execute_result"
    },
    {
     "data": {
      "image/png": "[encoded data removed]",
      "text/plain": [
       "<Figure size 864x1440 with 3 Axes>"
      ]
     },
     "metadata": {
      "needs_background": "light"
     },
     "output_type": "display_data"
    }
   ],
   "source": [
    "f, [ax1, ax2, ax3] = plt.subplots(3, 1, figsize=(12,20))\n",
    "sns.barplot(x='Region', y='houseSinglePrice', palette='Blues_d', data=df_house_mean, ax=ax1)\n",
    "ax1.set_title('成都各区二手房每平米单价对比')\n",
    "ax1.set_xlabel('区域')\n",
    "ax1.set_ylabel('每平米单价')\n",
    "\n",
    "sns.barplot(x='Region', y='houseId', palette='Greens_d', data=df_house_count, ax=ax2)\n",
    "ax2.set_title('成都各区二手房数量对比')\n",
    "ax2.set_xlabel('区域')\n",
    "ax2.set_ylabel('数量')\n",
    "\n",
    "sns.boxplot(x='Region', y='houseTotalMoney', data=house_df, ax=ax3)\n",
    "ax3.set_title('成都各区二手房房屋总价')\n",
    "ax3.set_xlabel('区域')\n",
    "ax3.set_ylabel('房屋总价')\n",
    "\n",
    "plt.show()"
   ]
  },
  {
   "cell_type": "markdown",
   "metadata": {},
   "source": [
    "---\n",
    "# 房屋面积分析"
   ]
  },
  {
   "cell_type": "code",
   "execution_count": 14,
   "metadata": {},
   "outputs": [
    {
     "data": {
      "text/plain": [
       "<matplotlib.axes._subplots.AxesSubplot at 0x223c9126f60>"
      ]
     },
     "execution_count": 14,
     "metadata": {},
     "output_type": "execute_result"
    },
    {
     "data": {
      "text/plain": [
       "<matplotlib.axes._subplots.AxesSubplot at 0x223c9126f60>"
      ]
     },
     "execution_count": 14,
     "metadata": {},
     "output_type": "execute_result"
    },
    {
     "data": {
      "text/plain": [
       "<matplotlib.axes._subplots.AxesSubplot at 0x223c94fcba8>"
      ]
     },
     "execution_count": 14,
     "metadata": {},
     "output_type": "execute_result"
    },
    {
     "data": {
      "image/png": "[encoded data removed]",
      "text/plain": [
       "<Figure size 1152x432 with 2 Axes>"
      ]
     },
     "metadata": {
      "needs_background": "light"
     },
     "output_type": "display_data"
    }
   ],
   "source": [
    "f, [ax1,ax2] = plt.subplots(1, 2, figsize=(16, 6))\n",
    "# 房屋面积\n",
    "sns.distplot(house_df['houseBuildingArea'], ax=ax1, color='r')\n",
    "sns.kdeplot(house_df['houseBuildingArea'], shade=True, ax=ax1)\n",
    "\n",
    "# 房屋面积和价格的关系\n",
    "sns.regplot(x='houseBuildingArea', y='houseTotalMoney', data=house_df, ax=ax2)\n",
    "\n",
    "plt.show()"
   ]
  },
  {
   "cell_type": "markdown",
   "metadata": {},
   "source": [
    "---\n",
    "# 户型分析"
   ]
  },
  {
   "cell_type": "code",
   "execution_count": 15,
   "metadata": {},
   "outputs": [
    {
     "data": {
      "text/plain": [
       "<matplotlib.axes._subplots.AxesSubplot at 0x223cc8d8c50>"
      ]
     },
     "execution_count": 15,
     "metadata": {},
     "output_type": "execute_result"
    },
    {
     "data": {
      "text/plain": [
       "Text(0.5, 1.0, '房屋户型')"
      ]
     },
     "execution_count": 15,
     "metadata": {},
     "output_type": "execute_result"
    },
    {
     "data": {
      "text/plain": [
       "Text(0.5, 0, '数量')"
      ]
     },
     "execution_count": 15,
     "metadata": {},
     "output_type": "execute_result"
    },
    {
     "data": {
      "text/plain": [
       "Text(0, 0.5, '户型')"
      ]
     },
     "execution_count": 15,
     "metadata": {},
     "output_type": "execute_result"
    },
    {
     "data": {
      "image/png": "[encoded data removed]",
      "text/plain": [
       "<Figure size 864x864 with 1 Axes>"
      ]
     },
     "metadata": {
      "needs_background": "light"
     },
     "output_type": "display_data"
    }
   ],
   "source": [
    "f, ax1 = plt.subplots(figsize=(12,12))\n",
    "sns.countplot(y='houseType', data=house_df, ax=ax1)\n",
    "ax1.set_title('房屋户型', fontsize=15)\n",
    "ax1.set_xlabel('数量')\n",
    "ax1.set_ylabel('户型')\n",
    "\n",
    "plt.show()"
   ]
  },
  {
   "cell_type": "markdown",
   "metadata": {},
   "source": [
    "---\n",
    "# 装修情况分析"
   ]
  },
  {
   "cell_type": "code",
   "execution_count": 16,
   "metadata": {},
   "outputs": [
    {
     "data": {
      "text/plain": [
       "精装    1419\n",
       "简装    1014\n",
       "毛坯     444\n",
       "其他       9\n",
       "Name: houseDecoration, dtype: int64"
      ]
     },
     "execution_count": 16,
     "metadata": {},
     "output_type": "execute_result"
    }
   ],
   "source": [
    "house_df['houseDecoration'].value_counts()"
   ]
  },
  {
   "cell_type": "code",
   "execution_count": 17,
   "metadata": {},
   "outputs": [
    {
     "data": {
      "text/plain": [
       "<matplotlib.axes._subplots.AxesSubplot at 0x223cc962f60>"
      ]
     },
     "execution_count": 17,
     "metadata": {},
     "output_type": "execute_result"
    },
    {
     "data": {
      "text/plain": [
       "<matplotlib.axes._subplots.AxesSubplot at 0x223cc99dc88>"
      ]
     },
     "execution_count": 17,
     "metadata": {},
     "output_type": "execute_result"
    },
    {
     "data": {
      "text/plain": [
       "<matplotlib.axes._subplots.AxesSubplot at 0x223cc9c8630>"
      ]
     },
     "execution_count": 17,
     "metadata": {},
     "output_type": "execute_result"
    },
    {
     "data": {
      "image/png": "[encoded data removed]",
      "text/plain": [
       "<Figure size 1440x360 with 3 Axes>"
      ]
     },
     "metadata": {
      "needs_background": "light"
     },
     "output_type": "display_data"
    }
   ],
   "source": [
    "f, [ax1,ax2,ax3] = plt.subplots(1, 3, figsize=(20, 5))\n",
    "sns.countplot(house_df['houseDecoration'], ax=ax1)\n",
    "sns.barplot(x='houseDecoration', y='houseTotalMoney', data=house_df, ax=ax2)\n",
    "sns.boxplot(x='houseDecoration', y='houseTotalMoney', data=house_df, ax=ax3)\n",
    "\n",
    "plt.show()"
   ]
  },
  {
   "cell_type": "markdown",
   "metadata": {},
   "source": [
    "---\n",
    "# 电梯分析"
   ]
  },
  {
   "cell_type": "code",
   "execution_count": 18,
   "metadata": {},
   "outputs": [
    {
     "data": {
      "text/plain": [
       "有       2282\n",
       "无        425\n",
       "暂无数据     179\n",
       "Name: houseElevator, dtype: int64"
      ]
     },
     "execution_count": 18,
     "metadata": {},
     "output_type": "execute_result"
    }
   ],
   "source": [
    "house_df['houseElevator'].value_counts()"
   ]
  },
  {
   "cell_type": "code",
   "execution_count": 19,
   "metadata": {},
   "outputs": [
    {
     "data": {
      "text/plain": [
       "有    2282\n",
       "无     425\n",
       "Name: houseElevator, dtype: int64"
      ]
     },
     "execution_count": 19,
     "metadata": {},
     "output_type": "execute_result"
    }
   ],
   "source": [
    "elevator_df = house_df[house_df['houseElevator'] != '暂无数据']\n",
    "elevator_df['houseElevator'].value_counts()"
   ]
  },
  {
   "cell_type": "code",
   "execution_count": 20,
   "metadata": {},
   "outputs": [
    {
     "data": {
      "text/plain": [
       "<matplotlib.axes._subplots.AxesSubplot at 0x223ccce9630>"
      ]
     },
     "execution_count": 20,
     "metadata": {},
     "output_type": "execute_result"
    },
    {
     "data": {
      "text/plain": [
       "Text(0.5, 1.0, '有无电梯数量对比')"
      ]
     },
     "execution_count": 20,
     "metadata": {},
     "output_type": "execute_result"
    },
    {
     "data": {
      "text/plain": [
       "Text(0.5, 0, '是否有电梯')"
      ]
     },
     "execution_count": 20,
     "metadata": {},
     "output_type": "execute_result"
    },
    {
     "data": {
      "text/plain": [
       "Text(0, 0.5, '数量')"
      ]
     },
     "execution_count": 20,
     "metadata": {},
     "output_type": "execute_result"
    },
    {
     "data": {
      "text/plain": [
       "<matplotlib.axes._subplots.AxesSubplot at 0x223ccd13550>"
      ]
     },
     "execution_count": 20,
     "metadata": {},
     "output_type": "execute_result"
    },
    {
     "data": {
      "text/plain": [
       "Text(0.5, 1.0, '有无电梯房价对比')"
      ]
     },
     "execution_count": 20,
     "metadata": {},
     "output_type": "execute_result"
    },
    {
     "data": {
      "text/plain": [
       "Text(0.5, 0, '是否有电梯')"
      ]
     },
     "execution_count": 20,
     "metadata": {},
     "output_type": "execute_result"
    },
    {
     "data": {
      "text/plain": [
       "Text(0, 0.5, '总价')"
      ]
     },
     "execution_count": 20,
     "metadata": {},
     "output_type": "execute_result"
    },
    {
     "data": {
      "image/png": "[encoded data removed]",
      "text/plain": [
       "<Figure size 1152x576 with 2 Axes>"
      ]
     },
     "metadata": {
      "needs_background": "light"
     },
     "output_type": "display_data"
    }
   ],
   "source": [
    "f, [ax1, ax2] = plt.subplots(1, 2, figsize=(16, 8))\n",
    "sns.countplot(elevator_df['houseElevator'], ax=ax1)\n",
    "ax1.set_title('有无电梯数量对比',fontsize=15)\n",
    "ax1.set_xlabel('是否有电梯')\n",
    "ax1.set_ylabel('数量')\n",
    "\n",
    "sns.barplot(x='houseElevator', y='houseSinglePrice', data=elevator_df, ax=ax2)\n",
    "ax2.set_title('有无电梯房价对比')\n",
    "ax2.set_xlabel('是否有电梯')\n",
    "ax2.set_ylabel('总价')\n",
    "\n",
    "plt.show()"
   ]
  },
  {
   "cell_type": "markdown",
   "metadata": {},
   "source": [
    "---\n",
    "# 楼层分析"
   ]
  },
  {
   "cell_type": "code",
   "execution_count": 21,
   "metadata": {},
   "outputs": [
    {
     "data": {
      "text/plain": [
       "<matplotlib.axes._subplots.AxesSubplot at 0x223cd12c550>"
      ]
     },
     "execution_count": 21,
     "metadata": {},
     "output_type": "execute_result"
    },
    {
     "data": {
      "text/plain": [
       "Text(0.5, 1.0, '房屋楼层')"
      ]
     },
     "execution_count": 21,
     "metadata": {},
     "output_type": "execute_result"
    },
    {
     "data": {
      "text/plain": [
       "Text(0.5, 0, '数量')"
      ]
     },
     "execution_count": 21,
     "metadata": {},
     "output_type": "execute_result"
    },
    {
     "data": {
      "text/plain": [
       "Text(0, 0.5, '楼层')"
      ]
     },
     "execution_count": 21,
     "metadata": {},
     "output_type": "execute_result"
    },
    {
     "data": {
      "image/png": "[encoded data removed]",
      "text/plain": [
       "<Figure size 1440x360 with 1 Axes>"
      ]
     },
     "metadata": {
      "needs_background": "light"
     },
     "output_type": "display_data"
    }
   ],
   "source": [
    "f, ax1 = plt.subplots(figsize=(20,5))\n",
    "sns.countplot(x='totalFloor', data=house_df, ax=ax1)\n",
    "ax1.set_title('房屋楼层',fontsize=15)\n",
    "ax1.set_xlabel('数量')\n",
    "ax1.set_ylabel('楼层')\n",
    "\n",
    "plt.show()"
   ]
  }
 ],
 "metadata": {
  "kernelspec": {
   "display_name": "Python 3",
   "language": "python",
   "name": "python3"
  },
  "language_info": {
   "codemirror_mode": {
    "name": "ipython",
    "version": 3
   },
   "file_extension": ".py",
   "mimetype": "text/x-python",
   "name": "python",
   "nbconvert_exporter": "python",
   "pygments_lexer": "ipython3",
   "version": "3.7.3"
  }
 },
 "nbformat": 4,
 "nbformat_minor": 2
}
