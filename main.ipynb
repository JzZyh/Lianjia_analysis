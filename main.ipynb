{
 "cells": [
  {
   "cell_type": "code",
   "execution_count": 4,
   "metadata": {},
   "outputs": [],
   "source": [
    "import re\n",
    "import pandas as pd\n",
    "import seaborn as sns\n",
    "import matplotlib.pyplot as plt\n",
    "\n",
    "# 指定画布风格\n",
    "plt.style.use(\"fivethirtyeight\")\n",
    "\n",
    "# Mac环境下设置中文字体\n",
    "plt.rcParams['font.family'] = ['Arial Unicode MS'] #用来正常显示中文标签\n",
    "plt.rcParams['axes.unicode_minus'] = False #用来正常显示负号\n",
    "sns.set_style({'font.sans-serif':['Arial Unicode MS','Arial']})\n",
    "\n",
    "# Windows环境下设置中文字体\n",
    "# sns.set_style({'font.sans-serif':['simhei','Arial']})\n",
    "\n",
    "# 如果代码不在jupyter中执行，可以删掉\n",
    "%matplotlib inline"
   ]
  },
  {
   "cell_type": "code",
   "execution_count": 5,
   "metadata": {},
   "outputs": [
    {
     "data": {
      "text/html": [
       "<div>\n",
       "<style scoped>\n",
       "    .dataframe tbody tr th:only-of-type {\n",
       "        vertical-align: middle;\n",
       "    }\n",
       "\n",
       "    .dataframe tbody tr th {\n",
       "        vertical-align: top;\n",
       "    }\n",
       "\n",
       "    .dataframe thead th {\n",
       "        text-align: right;\n",
       "    }\n",
       "</style>\n",
       "<table border=\"1\" class=\"dataframe\">\n",
       "  <thead>\n",
       "    <tr style=\"text-align: right;\">\n",
       "      <th></th>\n",
       "      <th>houseId</th>\n",
       "      <th>houseTitle</th>\n",
       "      <th>houseTotalMoney</th>\n",
       "      <th>houseSinglePrice</th>\n",
       "      <th>houseDownPayment</th>\n",
       "      <th>houseGardenName</th>\n",
       "      <th>houseLocation</th>\n",
       "      <th>houseNumber</th>\n",
       "      <th>houseType</th>\n",
       "      <th>houseFloor</th>\n",
       "      <th>...</th>\n",
       "      <th>houseLastTrade</th>\n",
       "      <th>houseUsage</th>\n",
       "      <th>houseAgeLimit</th>\n",
       "      <th>housePrivilegeProperty</th>\n",
       "      <th>housePledge</th>\n",
       "      <th>houseRecord</th>\n",
       "      <th>houseImg</th>\n",
       "      <th>houseUrl</th>\n",
       "      <th>houseRefererUrl</th>\n",
       "      <th>houseCrawlTime</th>\n",
       "    </tr>\n",
       "  </thead>\n",
       "  <tbody>\n",
       "    <tr>\n",
       "      <th>0</th>\n",
       "      <td>1</td>\n",
       "      <td>春禧商务酒店    中楼层   采光好</td>\n",
       "      <td>118万</td>\n",
       "      <td>23629元/平米</td>\n",
       "      <td>36万</td>\n",
       "      <td>春禧商务酒店</td>\n",
       "      <td>锦江\\t盐市口\\t一环内</td>\n",
       "      <td>106102444217</td>\n",
       "      <td>1室0厅1厨1卫</td>\n",
       "      <td>中楼层(共14层)</td>\n",
       "      <td>...</td>\n",
       "      <td>2015-03-28</td>\n",
       "      <td>普通住宅</td>\n",
       "      <td>满两年</td>\n",
       "      <td>非共有</td>\n",
       "      <td>无抵押</td>\n",
       "      <td>已上传房本照片</td>\n",
       "      <td>NaN</td>\n",
       "      <td>https://cd.lianjia.com/ershoufang/106102444217...</td>\n",
       "      <td>https://cd.lianjia.com/ershoufang/pg7/</td>\n",
       "      <td>2019-07-17 10:56:40</td>\n",
       "    </tr>\n",
       "    <tr>\n",
       "      <th>1</th>\n",
       "      <td>2</td>\n",
       "      <td>时代水岸康城 有装修 有家具家电 可拎包入住</td>\n",
       "      <td>88万</td>\n",
       "      <td>11734元/平米</td>\n",
       "      <td>27万</td>\n",
       "      <td>时代水岸康城</td>\n",
       "      <td>郫都\\t红光</td>\n",
       "      <td>106101454157</td>\n",
       "      <td>3室2厅1厨1卫</td>\n",
       "      <td>低楼层(共25层)</td>\n",
       "      <td>...</td>\n",
       "      <td>暂无数据</td>\n",
       "      <td>普通住宅</td>\n",
       "      <td>暂无数据</td>\n",
       "      <td>非共有</td>\n",
       "      <td>有抵押10万元暂不清楚业主自还</td>\n",
       "      <td>未上传房本照片</td>\n",
       "      <td>https://image1.ljcdn.com/x-se/hdic-frame/prod-...</td>\n",
       "      <td>https://cd.lianjia.com/ershoufang/106101454157...</td>\n",
       "      <td>https://cd.lianjia.com/ershoufang/pg7/</td>\n",
       "      <td>2019-07-17 10:56:40</td>\n",
       "    </tr>\n",
       "    <tr>\n",
       "      <th>2</th>\n",
       "      <td>3</td>\n",
       "      <td>精装套二，高楼层，采光好，视野无遮挡。</td>\n",
       "      <td>128万</td>\n",
       "      <td>15473元/平米</td>\n",
       "      <td>39万</td>\n",
       "      <td>金辉枫尚</td>\n",
       "      <td>武侯\\t武侯立交\\t二至三环</td>\n",
       "      <td>106102939993</td>\n",
       "      <td>2室1厅1厨1卫</td>\n",
       "      <td>高楼层(共18层)</td>\n",
       "      <td>...</td>\n",
       "      <td>2014-09-03</td>\n",
       "      <td>普通住宅</td>\n",
       "      <td>满两年</td>\n",
       "      <td>共有</td>\n",
       "      <td>有抵押1万元</td>\n",
       "      <td>已上传房本照片</td>\n",
       "      <td>https://image1.ljcdn.com/x-se/hdic-frame/prod-...</td>\n",
       "      <td>https://cd.lianjia.com/ershoufang/106102939993...</td>\n",
       "      <td>https://cd.lianjia.com/ershoufang/pg7/</td>\n",
       "      <td>2019-07-17 10:56:40</td>\n",
       "    </tr>\n",
       "    <tr>\n",
       "      <th>3</th>\n",
       "      <td>4</td>\n",
       "      <td>纯中庭精装N户型，，朝东采光好</td>\n",
       "      <td>303万</td>\n",
       "      <td>34277元/平米</td>\n",
       "      <td>91万</td>\n",
       "      <td>中海兰庭</td>\n",
       "      <td>高新\\t大源\\t绕城高速至第二绕城高速</td>\n",
       "      <td>106102254366</td>\n",
       "      <td>4室1厅1厨2卫</td>\n",
       "      <td>低楼层(共32层)</td>\n",
       "      <td>...</td>\n",
       "      <td>2015-05-06</td>\n",
       "      <td>普通住宅</td>\n",
       "      <td>满两年</td>\n",
       "      <td>共有</td>\n",
       "      <td>有抵押50万元</td>\n",
       "      <td>已上传房本照片</td>\n",
       "      <td>https://image1.ljcdn.com/x-se/hdic-frame/prod-...</td>\n",
       "      <td>https://cd.lianjia.com/ershoufang/106102254366...</td>\n",
       "      <td>https://cd.lianjia.com/ershoufang/pg22/</td>\n",
       "      <td>2019-07-17 10:56:40</td>\n",
       "    </tr>\n",
       "    <tr>\n",
       "      <th>4</th>\n",
       "      <td>5</td>\n",
       "      <td>上置小套三 看房便利  随时咨询</td>\n",
       "      <td>86万</td>\n",
       "      <td>11945元/平米</td>\n",
       "      <td>26万</td>\n",
       "      <td>上置雅宾利</td>\n",
       "      <td>郫都\\t红光\\t绕城高速至第二绕城高速</td>\n",
       "      <td>106101689983</td>\n",
       "      <td>3室1厅1厨1卫</td>\n",
       "      <td>中楼层(共23层)</td>\n",
       "      <td>...</td>\n",
       "      <td>暂无数据</td>\n",
       "      <td>普通住宅</td>\n",
       "      <td>暂无数据</td>\n",
       "      <td>共有</td>\n",
       "      <td>有抵押26万元农行高新支行客户偿还</td>\n",
       "      <td>未上传房本照片</td>\n",
       "      <td>https://image1.ljcdn.com/x-se/hdic-frame/prod-...</td>\n",
       "      <td>https://cd.lianjia.com/ershoufang/106101689983...</td>\n",
       "      <td>https://cd.lianjia.com/ershoufang/pg35/</td>\n",
       "      <td>2019-07-17 10:56:40</td>\n",
       "    </tr>\n",
       "  </tbody>\n",
       "</table>\n",
       "<p>5 rows × 32 columns</p>\n",
       "</div>"
      ],
      "text/plain": [
       "   houseId              houseTitle houseTotalMoney houseSinglePrice  \\\n",
       "0        1     春禧商务酒店    中楼层   采光好            118万        23629元/平米   \n",
       "1        2  时代水岸康城 有装修 有家具家电 可拎包入住             88万        11734元/平米   \n",
       "2        3     精装套二，高楼层，采光好，视野无遮挡。            128万        15473元/平米   \n",
       "3        4         纯中庭精装N户型，，朝东采光好            303万        34277元/平米   \n",
       "4        5        上置小套三 看房便利  随时咨询             86万        11945元/平米   \n",
       "\n",
       "  houseDownPayment houseGardenName        houseLocation   houseNumber  \\\n",
       "0              36万          春禧商务酒店         锦江\\t盐市口\\t一环内  106102444217   \n",
       "1              27万          时代水岸康城               郫都\\t红光  106101454157   \n",
       "2              39万            金辉枫尚       武侯\\t武侯立交\\t二至三环  106102939993   \n",
       "3              91万            中海兰庭  高新\\t大源\\t绕城高速至第二绕城高速  106102254366   \n",
       "4              26万           上置雅宾利  郫都\\t红光\\t绕城高速至第二绕城高速  106101689983   \n",
       "\n",
       "  houseType houseFloor  ... houseLastTrade houseUsage houseAgeLimit  \\\n",
       "0  1室0厅1厨1卫  中楼层(共14层)  ...     2015-03-28       普通住宅           满两年   \n",
       "1  3室2厅1厨1卫  低楼层(共25层)  ...           暂无数据       普通住宅          暂无数据   \n",
       "2  2室1厅1厨1卫  高楼层(共18层)  ...     2014-09-03       普通住宅           满两年   \n",
       "3  4室1厅1厨2卫  低楼层(共32层)  ...     2015-05-06       普通住宅           满两年   \n",
       "4  3室1厅1厨1卫  中楼层(共23层)  ...           暂无数据       普通住宅          暂无数据   \n",
       "\n",
       "  housePrivilegeProperty        housePledge houseRecord  \\\n",
       "0                    非共有                无抵押     已上传房本照片   \n",
       "1                    非共有    有抵押10万元暂不清楚业主自还     未上传房本照片   \n",
       "2                     共有             有抵押1万元     已上传房本照片   \n",
       "3                     共有            有抵押50万元     已上传房本照片   \n",
       "4                     共有  有抵押26万元农行高新支行客户偿还     未上传房本照片   \n",
       "\n",
       "                                            houseImg  \\\n",
       "0                                                NaN   \n",
       "1  https://image1.ljcdn.com/x-se/hdic-frame/prod-...   \n",
       "2  https://image1.ljcdn.com/x-se/hdic-frame/prod-...   \n",
       "3  https://image1.ljcdn.com/x-se/hdic-frame/prod-...   \n",
       "4  https://image1.ljcdn.com/x-se/hdic-frame/prod-...   \n",
       "\n",
       "                                            houseUrl  \\\n",
       "0  https://cd.lianjia.com/ershoufang/106102444217...   \n",
       "1  https://cd.lianjia.com/ershoufang/106101454157...   \n",
       "2  https://cd.lianjia.com/ershoufang/106102939993...   \n",
       "3  https://cd.lianjia.com/ershoufang/106102254366...   \n",
       "4  https://cd.lianjia.com/ershoufang/106101689983...   \n",
       "\n",
       "                           houseRefererUrl       houseCrawlTime  \n",
       "0   https://cd.lianjia.com/ershoufang/pg7/  2019-07-17 10:56:40  \n",
       "1   https://cd.lianjia.com/ershoufang/pg7/  2019-07-17 10:56:40  \n",
       "2   https://cd.lianjia.com/ershoufang/pg7/  2019-07-17 10:56:40  \n",
       "3  https://cd.lianjia.com/ershoufang/pg22/  2019-07-17 10:56:40  \n",
       "4  https://cd.lianjia.com/ershoufang/pg35/  2019-07-17 10:56:40  \n",
       "\n",
       "[5 rows x 32 columns]"
      ]
     },
     "execution_count": 5,
     "metadata": {},
     "output_type": "execute_result"
    }
   ],
   "source": [
    "house_df = pd.read_excel('house.xlsx')\n",
    "# 看一下数据长什么样子\n",
    "house_df.head()"
   ]
  },
  {
   "cell_type": "code",
   "execution_count": 6,
   "metadata": {},
   "outputs": [
    {
     "name": "stdout",
     "output_type": "stream",
     "text": [
      "<class 'pandas.core.frame.DataFrame'>\n",
      "RangeIndex: 2993 entries, 0 to 2992\n",
      "Data columns (total 32 columns):\n",
      "houseId                   2993 non-null int64\n",
      "houseTitle                2993 non-null object\n",
      "houseTotalMoney           2993 non-null object\n",
      "houseSinglePrice          2993 non-null object\n",
      "houseDownPayment          2993 non-null object\n",
      "houseGardenName           2993 non-null object\n",
      "houseLocation             2993 non-null object\n",
      "houseNumber               2993 non-null int64\n",
      "houseType                 2993 non-null object\n",
      "houseFloor                2993 non-null object\n",
      "houseBuildingArea         2993 non-null object\n",
      "houseStructure            2993 non-null object\n",
      "houseInnerArea            2993 non-null object\n",
      "houseBuildingType         2993 non-null object\n",
      "houseOrientation          2993 non-null object\n",
      "houseBuildingStructure    2993 non-null object\n",
      "houseDecoration           2993 non-null object\n",
      "houseElevatorRatio        2985 non-null object\n",
      "houseElevator             2985 non-null object\n",
      "housePrivilege            2985 non-null object\n",
      "houseListDate             2993 non-null object\n",
      "houseTradeProperty        2993 non-null object\n",
      "houseLastTrade            2993 non-null object\n",
      "houseUsage                2993 non-null object\n",
      "houseAgeLimit             2993 non-null object\n",
      "housePrivilegeProperty    2993 non-null object\n",
      "housePledge               2993 non-null object\n",
      "houseRecord               2993 non-null object\n",
      "houseImg                  2890 non-null object\n",
      "houseUrl                  2993 non-null object\n",
      "houseRefererUrl           2993 non-null object\n",
      "houseCrawlTime            2993 non-null object\n",
      "dtypes: int64(2), object(30)\n",
      "memory usage: 748.4+ KB\n"
     ]
    }
   ],
   "source": [
    "# 查看缺失值情况\n",
    "house_df.info()"
   ]
  },
  {
   "cell_type": "code",
   "execution_count": 7,
   "metadata": {},
   "outputs": [
    {
     "name": "stdout",
     "output_type": "stream",
     "text": [
      "<class 'pandas.core.frame.DataFrame'>\n",
      "Int64Index: 2886 entries, 1 to 2992\n",
      "Data columns (total 32 columns):\n",
      "houseId                   2886 non-null int64\n",
      "houseTitle                2886 non-null object\n",
      "houseTotalMoney           2886 non-null object\n",
      "houseSinglePrice          2886 non-null object\n",
      "houseDownPayment          2886 non-null object\n",
      "houseGardenName           2886 non-null object\n",
      "houseLocation             2886 non-null object\n",
      "houseNumber               2886 non-null int64\n",
      "houseType                 2886 non-null object\n",
      "houseFloor                2886 non-null object\n",
      "houseBuildingArea         2886 non-null object\n",
      "houseStructure            2886 non-null object\n",
      "houseInnerArea            2886 non-null object\n",
      "houseBuildingType         2886 non-null object\n",
      "houseOrientation          2886 non-null object\n",
      "houseBuildingStructure    2886 non-null object\n",
      "houseDecoration           2886 non-null object\n",
      "houseElevatorRatio        2886 non-null object\n",
      "houseElevator             2886 non-null object\n",
      "housePrivilege            2886 non-null object\n",
      "houseListDate             2886 non-null object\n",
      "houseTradeProperty        2886 non-null object\n",
      "houseLastTrade            2886 non-null object\n",
      "houseUsage                2886 non-null object\n",
      "houseAgeLimit             2886 non-null object\n",
      "housePrivilegeProperty    2886 non-null object\n",
      "housePledge               2886 non-null object\n",
      "houseRecord               2886 non-null object\n",
      "houseImg                  2886 non-null object\n",
      "houseUrl                  2886 non-null object\n",
      "houseRefererUrl           2886 non-null object\n",
      "houseCrawlTime            2886 non-null object\n",
      "dtypes: int64(2), object(30)\n",
      "memory usage: 744.0+ KB\n"
     ]
    }
   ],
   "source": [
    "house_df.dropna(inplace=True)\n",
    "house_df.info()"
   ]
  },
  {
   "cell_type": "code",
   "execution_count": 8,
   "metadata": {},
   "outputs": [],
   "source": [
    "# 做一部分预处理\n",
    "house_df['houseTotalMoney'] = house_df['houseTotalMoney'].apply(lambda x: float(x.replace('万', '')))\n",
    "house_df['houseSinglePrice'] = house_df['houseSinglePrice'].apply(lambda x: float(x.replace('元/平米', '')))\n",
    "# house_df['houseDownPayment'] = house_df['houseDownPayment'].apply(lambda x: float(x.replace('万', '')))\n",
    "house_df['houseBuildingArea'] = house_df['houseBuildingArea'].apply(lambda x: float(x.replace('㎡', '')))\n",
    "house_df['totalFloor'] = house_df['houseFloor'].apply(lambda x:re.search('\\d+', x).group())"
   ]
  },
  {
   "cell_type": "code",
   "execution_count": 9,
   "metadata": {},
   "outputs": [],
   "source": [
    "# houseLocation字段表示区域，我们取前两个字，然后方便分区统计\n",
    "house_df['Region'] = house_df['houseLocation'].apply(lambda x:x.split('\\t')[0])"
   ]
  },
  {
   "cell_type": "code",
   "execution_count": 10,
   "metadata": {},
   "outputs": [
    {
     "data": {
      "text/html": [
       "<div>\n",
       "<style scoped>\n",
       "    .dataframe tbody tr th:only-of-type {\n",
       "        vertical-align: middle;\n",
       "    }\n",
       "\n",
       "    .dataframe tbody tr th {\n",
       "        vertical-align: top;\n",
       "    }\n",
       "\n",
       "    .dataframe thead th {\n",
       "        text-align: right;\n",
       "    }\n",
       "</style>\n",
       "<table border=\"1\" class=\"dataframe\">\n",
       "  <thead>\n",
       "    <tr style=\"text-align: right;\">\n",
       "      <th></th>\n",
       "      <th>houseId</th>\n",
       "      <th>houseTitle</th>\n",
       "      <th>houseTotalMoney</th>\n",
       "      <th>houseSinglePrice</th>\n",
       "      <th>houseDownPayment</th>\n",
       "      <th>houseGardenName</th>\n",
       "      <th>houseLocation</th>\n",
       "      <th>houseNumber</th>\n",
       "      <th>houseType</th>\n",
       "      <th>houseFloor</th>\n",
       "      <th>...</th>\n",
       "      <th>houseAgeLimit</th>\n",
       "      <th>housePrivilegeProperty</th>\n",
       "      <th>housePledge</th>\n",
       "      <th>houseRecord</th>\n",
       "      <th>houseImg</th>\n",
       "      <th>houseUrl</th>\n",
       "      <th>houseRefererUrl</th>\n",
       "      <th>houseCrawlTime</th>\n",
       "      <th>totalFloor</th>\n",
       "      <th>Region</th>\n",
       "    </tr>\n",
       "  </thead>\n",
       "  <tbody>\n",
       "    <tr>\n",
       "      <th>1</th>\n",
       "      <td>2</td>\n",
       "      <td>时代水岸康城 有装修 有家具家电 可拎包入住</td>\n",
       "      <td>88.0</td>\n",
       "      <td>11734.0</td>\n",
       "      <td>27万</td>\n",
       "      <td>时代水岸康城</td>\n",
       "      <td>郫都\\t红光</td>\n",
       "      <td>106101454157</td>\n",
       "      <td>3室2厅1厨1卫</td>\n",
       "      <td>低楼层(共25层)</td>\n",
       "      <td>...</td>\n",
       "      <td>暂无数据</td>\n",
       "      <td>非共有</td>\n",
       "      <td>有抵押10万元暂不清楚业主自还</td>\n",
       "      <td>未上传房本照片</td>\n",
       "      <td>https://image1.ljcdn.com/x-se/hdic-frame/prod-...</td>\n",
       "      <td>https://cd.lianjia.com/ershoufang/106101454157...</td>\n",
       "      <td>https://cd.lianjia.com/ershoufang/pg7/</td>\n",
       "      <td>2019-07-17 10:56:40</td>\n",
       "      <td>25</td>\n",
       "      <td>郫都</td>\n",
       "    </tr>\n",
       "    <tr>\n",
       "      <th>2</th>\n",
       "      <td>3</td>\n",
       "      <td>精装套二，高楼层，采光好，视野无遮挡。</td>\n",
       "      <td>128.0</td>\n",
       "      <td>15473.0</td>\n",
       "      <td>39万</td>\n",
       "      <td>金辉枫尚</td>\n",
       "      <td>武侯\\t武侯立交\\t二至三环</td>\n",
       "      <td>106102939993</td>\n",
       "      <td>2室1厅1厨1卫</td>\n",
       "      <td>高楼层(共18层)</td>\n",
       "      <td>...</td>\n",
       "      <td>满两年</td>\n",
       "      <td>共有</td>\n",
       "      <td>有抵押1万元</td>\n",
       "      <td>已上传房本照片</td>\n",
       "      <td>https://image1.ljcdn.com/x-se/hdic-frame/prod-...</td>\n",
       "      <td>https://cd.lianjia.com/ershoufang/106102939993...</td>\n",
       "      <td>https://cd.lianjia.com/ershoufang/pg7/</td>\n",
       "      <td>2019-07-17 10:56:40</td>\n",
       "      <td>18</td>\n",
       "      <td>武侯</td>\n",
       "    </tr>\n",
       "    <tr>\n",
       "      <th>3</th>\n",
       "      <td>4</td>\n",
       "      <td>纯中庭精装N户型，，朝东采光好</td>\n",
       "      <td>303.0</td>\n",
       "      <td>34277.0</td>\n",
       "      <td>91万</td>\n",
       "      <td>中海兰庭</td>\n",
       "      <td>高新\\t大源\\t绕城高速至第二绕城高速</td>\n",
       "      <td>106102254366</td>\n",
       "      <td>4室1厅1厨2卫</td>\n",
       "      <td>低楼层(共32层)</td>\n",
       "      <td>...</td>\n",
       "      <td>满两年</td>\n",
       "      <td>共有</td>\n",
       "      <td>有抵押50万元</td>\n",
       "      <td>已上传房本照片</td>\n",
       "      <td>https://image1.ljcdn.com/x-se/hdic-frame/prod-...</td>\n",
       "      <td>https://cd.lianjia.com/ershoufang/106102254366...</td>\n",
       "      <td>https://cd.lianjia.com/ershoufang/pg22/</td>\n",
       "      <td>2019-07-17 10:56:40</td>\n",
       "      <td>32</td>\n",
       "      <td>高新</td>\n",
       "    </tr>\n",
       "    <tr>\n",
       "      <th>4</th>\n",
       "      <td>5</td>\n",
       "      <td>上置小套三 看房便利  随时咨询</td>\n",
       "      <td>86.0</td>\n",
       "      <td>11945.0</td>\n",
       "      <td>26万</td>\n",
       "      <td>上置雅宾利</td>\n",
       "      <td>郫都\\t红光\\t绕城高速至第二绕城高速</td>\n",
       "      <td>106101689983</td>\n",
       "      <td>3室1厅1厨1卫</td>\n",
       "      <td>中楼层(共23层)</td>\n",
       "      <td>...</td>\n",
       "      <td>暂无数据</td>\n",
       "      <td>共有</td>\n",
       "      <td>有抵押26万元农行高新支行客户偿还</td>\n",
       "      <td>未上传房本照片</td>\n",
       "      <td>https://image1.ljcdn.com/x-se/hdic-frame/prod-...</td>\n",
       "      <td>https://cd.lianjia.com/ershoufang/106101689983...</td>\n",
       "      <td>https://cd.lianjia.com/ershoufang/pg35/</td>\n",
       "      <td>2019-07-17 10:56:40</td>\n",
       "      <td>23</td>\n",
       "      <td>郫都</td>\n",
       "    </tr>\n",
       "    <tr>\n",
       "      <th>5</th>\n",
       "      <td>6</td>\n",
       "      <td>青羊区信托单位房标准三居室小区可停车</td>\n",
       "      <td>225.0</td>\n",
       "      <td>16065.0</td>\n",
       "      <td>68万</td>\n",
       "      <td>文庙公寓</td>\n",
       "      <td>青羊\\t人民公园\\t一环内</td>\n",
       "      <td>106102933675</td>\n",
       "      <td>3室2厅1厨2卫</td>\n",
       "      <td>低楼层(共7层)</td>\n",
       "      <td>...</td>\n",
       "      <td>暂无数据</td>\n",
       "      <td>非共有</td>\n",
       "      <td>无抵押</td>\n",
       "      <td>未上传房本照片</td>\n",
       "      <td>https://image1.ljcdn.com/x-se/hdic-frame/prod-...</td>\n",
       "      <td>https://cd.lianjia.com/ershoufang/106102933675...</td>\n",
       "      <td>https://cd.lianjia.com/ershoufang/pg35/</td>\n",
       "      <td>2019-07-17 10:56:40</td>\n",
       "      <td>7</td>\n",
       "      <td>青羊</td>\n",
       "    </tr>\n",
       "  </tbody>\n",
       "</table>\n",
       "<p>5 rows × 34 columns</p>\n",
       "</div>"
      ],
      "text/plain": [
       "   houseId              houseTitle  houseTotalMoney  houseSinglePrice  \\\n",
       "1        2  时代水岸康城 有装修 有家具家电 可拎包入住             88.0           11734.0   \n",
       "2        3     精装套二，高楼层，采光好，视野无遮挡。            128.0           15473.0   \n",
       "3        4         纯中庭精装N户型，，朝东采光好            303.0           34277.0   \n",
       "4        5        上置小套三 看房便利  随时咨询             86.0           11945.0   \n",
       "5        6      青羊区信托单位房标准三居室小区可停车            225.0           16065.0   \n",
       "\n",
       "  houseDownPayment houseGardenName        houseLocation   houseNumber  \\\n",
       "1              27万          时代水岸康城               郫都\\t红光  106101454157   \n",
       "2              39万            金辉枫尚       武侯\\t武侯立交\\t二至三环  106102939993   \n",
       "3              91万            中海兰庭  高新\\t大源\\t绕城高速至第二绕城高速  106102254366   \n",
       "4              26万           上置雅宾利  郫都\\t红光\\t绕城高速至第二绕城高速  106101689983   \n",
       "5              68万            文庙公寓        青羊\\t人民公园\\t一环内  106102933675   \n",
       "\n",
       "  houseType houseFloor  ...  houseAgeLimit housePrivilegeProperty  \\\n",
       "1  3室2厅1厨1卫  低楼层(共25层)  ...           暂无数据                    非共有   \n",
       "2  2室1厅1厨1卫  高楼层(共18层)  ...            满两年                     共有   \n",
       "3  4室1厅1厨2卫  低楼层(共32层)  ...            满两年                     共有   \n",
       "4  3室1厅1厨1卫  中楼层(共23层)  ...           暂无数据                     共有   \n",
       "5  3室2厅1厨2卫   低楼层(共7层)  ...           暂无数据                    非共有   \n",
       "\n",
       "         housePledge houseRecord  \\\n",
       "1    有抵押10万元暂不清楚业主自还     未上传房本照片   \n",
       "2             有抵押1万元     已上传房本照片   \n",
       "3            有抵押50万元     已上传房本照片   \n",
       "4  有抵押26万元农行高新支行客户偿还     未上传房本照片   \n",
       "5                无抵押     未上传房本照片   \n",
       "\n",
       "                                            houseImg  \\\n",
       "1  https://image1.ljcdn.com/x-se/hdic-frame/prod-...   \n",
       "2  https://image1.ljcdn.com/x-se/hdic-frame/prod-...   \n",
       "3  https://image1.ljcdn.com/x-se/hdic-frame/prod-...   \n",
       "4  https://image1.ljcdn.com/x-se/hdic-frame/prod-...   \n",
       "5  https://image1.ljcdn.com/x-se/hdic-frame/prod-...   \n",
       "\n",
       "                                            houseUrl  \\\n",
       "1  https://cd.lianjia.com/ershoufang/106101454157...   \n",
       "2  https://cd.lianjia.com/ershoufang/106102939993...   \n",
       "3  https://cd.lianjia.com/ershoufang/106102254366...   \n",
       "4  https://cd.lianjia.com/ershoufang/106101689983...   \n",
       "5  https://cd.lianjia.com/ershoufang/106102933675...   \n",
       "\n",
       "                           houseRefererUrl       houseCrawlTime totalFloor  \\\n",
       "1   https://cd.lianjia.com/ershoufang/pg7/  2019-07-17 10:56:40         25   \n",
       "2   https://cd.lianjia.com/ershoufang/pg7/  2019-07-17 10:56:40         18   \n",
       "3  https://cd.lianjia.com/ershoufang/pg22/  2019-07-17 10:56:40         32   \n",
       "4  https://cd.lianjia.com/ershoufang/pg35/  2019-07-17 10:56:40         23   \n",
       "5  https://cd.lianjia.com/ershoufang/pg35/  2019-07-17 10:56:40          7   \n",
       "\n",
       "  Region  \n",
       "1     郫都  \n",
       "2     武侯  \n",
       "3     高新  \n",
       "4     郫都  \n",
       "5     青羊  \n",
       "\n",
       "[5 rows x 34 columns]"
      ]
     },
     "execution_count": 10,
     "metadata": {},
     "output_type": "execute_result"
    }
   ],
   "source": [
    "house_df.head()"
   ]
  },
  {
   "cell_type": "code",
   "execution_count": 11,
   "metadata": {},
   "outputs": [
    {
     "data": {
      "text/html": [
       "<div>\n",
       "<style scoped>\n",
       "    .dataframe tbody tr th:only-of-type {\n",
       "        vertical-align: middle;\n",
       "    }\n",
       "\n",
       "    .dataframe tbody tr th {\n",
       "        vertical-align: top;\n",
       "    }\n",
       "\n",
       "    .dataframe thead th {\n",
       "        text-align: right;\n",
       "    }\n",
       "</style>\n",
       "<table border=\"1\" class=\"dataframe\">\n",
       "  <thead>\n",
       "    <tr style=\"text-align: right;\">\n",
       "      <th></th>\n",
       "      <th>houseId</th>\n",
       "      <th>houseTotalMoney</th>\n",
       "      <th>houseSinglePrice</th>\n",
       "      <th>houseNumber</th>\n",
       "      <th>houseBuildingArea</th>\n",
       "    </tr>\n",
       "  </thead>\n",
       "  <tbody>\n",
       "    <tr>\n",
       "      <th>count</th>\n",
       "      <td>2886.000000</td>\n",
       "      <td>2886.000000</td>\n",
       "      <td>2886.000000</td>\n",
       "      <td>2.886000e+03</td>\n",
       "      <td>2886.000000</td>\n",
       "    </tr>\n",
       "    <tr>\n",
       "      <th>mean</th>\n",
       "      <td>1490.764380</td>\n",
       "      <td>143.652772</td>\n",
       "      <td>15685.462924</td>\n",
       "      <td>1.061025e+11</td>\n",
       "      <td>90.377585</td>\n",
       "    </tr>\n",
       "    <tr>\n",
       "      <th>std</th>\n",
       "      <td>865.249813</td>\n",
       "      <td>80.367330</td>\n",
       "      <td>5184.566435</td>\n",
       "      <td>4.928009e+05</td>\n",
       "      <td>29.242237</td>\n",
       "    </tr>\n",
       "    <tr>\n",
       "      <th>min</th>\n",
       "      <td>2.000000</td>\n",
       "      <td>32.000000</td>\n",
       "      <td>5129.000000</td>\n",
       "      <td>1.061000e+11</td>\n",
       "      <td>28.510000</td>\n",
       "    </tr>\n",
       "    <tr>\n",
       "      <th>25%</th>\n",
       "      <td>739.250000</td>\n",
       "      <td>95.000000</td>\n",
       "      <td>11970.500000</td>\n",
       "      <td>1.061023e+11</td>\n",
       "      <td>73.292500</td>\n",
       "    </tr>\n",
       "    <tr>\n",
       "      <th>50%</th>\n",
       "      <td>1490.500000</td>\n",
       "      <td>125.000000</td>\n",
       "      <td>14745.500000</td>\n",
       "      <td>1.061026e+11</td>\n",
       "      <td>86.150000</td>\n",
       "    </tr>\n",
       "    <tr>\n",
       "      <th>75%</th>\n",
       "      <td>2235.750000</td>\n",
       "      <td>167.750000</td>\n",
       "      <td>18324.750000</td>\n",
       "      <td>1.061028e+11</td>\n",
       "      <td>103.165000</td>\n",
       "    </tr>\n",
       "    <tr>\n",
       "      <th>max</th>\n",
       "      <td>2993.000000</td>\n",
       "      <td>1100.000000</td>\n",
       "      <td>44846.000000</td>\n",
       "      <td>1.061030e+11</td>\n",
       "      <td>380.000000</td>\n",
       "    </tr>\n",
       "  </tbody>\n",
       "</table>\n",
       "</div>"
      ],
      "text/plain": [
       "           houseId  houseTotalMoney  houseSinglePrice   houseNumber  \\\n",
       "count  2886.000000      2886.000000       2886.000000  2.886000e+03   \n",
       "mean   1490.764380       143.652772      15685.462924  1.061025e+11   \n",
       "std     865.249813        80.367330       5184.566435  4.928009e+05   \n",
       "min       2.000000        32.000000       5129.000000  1.061000e+11   \n",
       "25%     739.250000        95.000000      11970.500000  1.061023e+11   \n",
       "50%    1490.500000       125.000000      14745.500000  1.061026e+11   \n",
       "75%    2235.750000       167.750000      18324.750000  1.061028e+11   \n",
       "max    2993.000000      1100.000000      44846.000000  1.061030e+11   \n",
       "\n",
       "       houseBuildingArea  \n",
       "count        2886.000000  \n",
       "mean           90.377585  \n",
       "std            29.242237  \n",
       "min            28.510000  \n",
       "25%            73.292500  \n",
       "50%            86.150000  \n",
       "75%           103.165000  \n",
       "max           380.000000  "
      ]
     },
     "execution_count": 11,
     "metadata": {},
     "output_type": "execute_result"
    }
   ],
   "source": [
    "# 再次观察有异常值\n",
    "house_df.describe() # houseNumber为房屋编号  不用管"
   ]
  },
  {
   "cell_type": "markdown",
   "metadata": {},
   "source": [
    "---\n",
    "# 可视化分析"
   ]
  },
  {
   "cell_type": "code",
   "execution_count": 12,
   "metadata": {},
   "outputs": [
    {
     "data": {
      "text/html": [
       "<div>\n",
       "<style scoped>\n",
       "    .dataframe tbody tr th:only-of-type {\n",
       "        vertical-align: middle;\n",
       "    }\n",
       "\n",
       "    .dataframe tbody tr th {\n",
       "        vertical-align: top;\n",
       "    }\n",
       "\n",
       "    .dataframe thead th {\n",
       "        text-align: right;\n",
       "    }\n",
       "</style>\n",
       "<table border=\"1\" class=\"dataframe\">\n",
       "  <thead>\n",
       "    <tr style=\"text-align: right;\">\n",
       "      <th></th>\n",
       "      <th>Region</th>\n",
       "      <th>Count</th>\n",
       "    </tr>\n",
       "  </thead>\n",
       "  <tbody>\n",
       "    <tr>\n",
       "      <th>0</th>\n",
       "      <td>成华</td>\n",
       "      <td>323</td>\n",
       "    </tr>\n",
       "    <tr>\n",
       "      <th>1</th>\n",
       "      <td>高新</td>\n",
       "      <td>318</td>\n",
       "    </tr>\n",
       "    <tr>\n",
       "      <th>2</th>\n",
       "      <td>青羊</td>\n",
       "      <td>293</td>\n",
       "    </tr>\n",
       "    <tr>\n",
       "      <th>3</th>\n",
       "      <td>武侯</td>\n",
       "      <td>276</td>\n",
       "    </tr>\n",
       "    <tr>\n",
       "      <th>4</th>\n",
       "      <td>温江</td>\n",
       "      <td>245</td>\n",
       "    </tr>\n",
       "    <tr>\n",
       "      <th>5</th>\n",
       "      <td>郫都</td>\n",
       "      <td>233</td>\n",
       "    </tr>\n",
       "    <tr>\n",
       "      <th>6</th>\n",
       "      <td>双流</td>\n",
       "      <td>217</td>\n",
       "    </tr>\n",
       "    <tr>\n",
       "      <th>7</th>\n",
       "      <td>锦江</td>\n",
       "      <td>217</td>\n",
       "    </tr>\n",
       "    <tr>\n",
       "      <th>8</th>\n",
       "      <td>金牛</td>\n",
       "      <td>208</td>\n",
       "    </tr>\n",
       "    <tr>\n",
       "      <th>9</th>\n",
       "      <td>天府新区</td>\n",
       "      <td>176</td>\n",
       "    </tr>\n",
       "    <tr>\n",
       "      <th>10</th>\n",
       "      <td>龙泉驿</td>\n",
       "      <td>173</td>\n",
       "    </tr>\n",
       "    <tr>\n",
       "      <th>11</th>\n",
       "      <td>新都</td>\n",
       "      <td>144</td>\n",
       "    </tr>\n",
       "    <tr>\n",
       "      <th>12</th>\n",
       "      <td>高新西</td>\n",
       "      <td>36</td>\n",
       "    </tr>\n",
       "    <tr>\n",
       "      <th>13</th>\n",
       "      <td>简阳</td>\n",
       "      <td>9</td>\n",
       "    </tr>\n",
       "    <tr>\n",
       "      <th>14</th>\n",
       "      <td>青白江</td>\n",
       "      <td>8</td>\n",
       "    </tr>\n",
       "    <tr>\n",
       "      <th>15</th>\n",
       "      <td>新津</td>\n",
       "      <td>5</td>\n",
       "    </tr>\n",
       "    <tr>\n",
       "      <th>16</th>\n",
       "      <td>都江堰</td>\n",
       "      <td>4</td>\n",
       "    </tr>\n",
       "    <tr>\n",
       "      <th>17</th>\n",
       "      <td>彭州</td>\n",
       "      <td>1</td>\n",
       "    </tr>\n",
       "  </tbody>\n",
       "</table>\n",
       "</div>"
      ],
      "text/plain": [
       "   Region  Count\n",
       "0      成华    323\n",
       "1      高新    318\n",
       "2      青羊    293\n",
       "3      武侯    276\n",
       "4      温江    245\n",
       "5      郫都    233\n",
       "6      双流    217\n",
       "7      锦江    217\n",
       "8      金牛    208\n",
       "9    天府新区    176\n",
       "10    龙泉驿    173\n",
       "11     新都    144\n",
       "12    高新西     36\n",
       "13     简阳      9\n",
       "14    青白江      8\n",
       "15     新津      5\n",
       "16    都江堰      4\n",
       "17     彭州      1"
      ]
     },
     "execution_count": 12,
     "metadata": {},
     "output_type": "execute_result"
    }
   ],
   "source": [
    "# 按区域分析数量\n",
    "df_house_count = house_df.groupby('Region')['houseId'].count().sort_values(ascending=False).to_frame().reset_index()\n",
    "df_house_count.columns = ['Region', 'Count']\n",
    "df_house_count"
   ]
  },
  {
   "cell_type": "code",
   "execution_count": 13,
   "metadata": {},
   "outputs": [
    {
     "data": {
      "text/html": [
       "<div>\n",
       "<style scoped>\n",
       "    .dataframe tbody tr th:only-of-type {\n",
       "        vertical-align: middle;\n",
       "    }\n",
       "\n",
       "    .dataframe tbody tr th {\n",
       "        vertical-align: top;\n",
       "    }\n",
       "\n",
       "    .dataframe thead th {\n",
       "        text-align: right;\n",
       "    }\n",
       "</style>\n",
       "<table border=\"1\" class=\"dataframe\">\n",
       "  <thead>\n",
       "    <tr style=\"text-align: right;\">\n",
       "      <th></th>\n",
       "      <th>Region</th>\n",
       "      <th>houseSinglePrice</th>\n",
       "    </tr>\n",
       "  </thead>\n",
       "  <tbody>\n",
       "    <tr>\n",
       "      <th>0</th>\n",
       "      <td>高新</td>\n",
       "      <td>20794.103774</td>\n",
       "    </tr>\n",
       "    <tr>\n",
       "      <th>1</th>\n",
       "      <td>锦江</td>\n",
       "      <td>20255.594470</td>\n",
       "    </tr>\n",
       "    <tr>\n",
       "      <th>2</th>\n",
       "      <td>青羊</td>\n",
       "      <td>18808.614334</td>\n",
       "    </tr>\n",
       "    <tr>\n",
       "      <th>3</th>\n",
       "      <td>成华</td>\n",
       "      <td>17008.643963</td>\n",
       "    </tr>\n",
       "    <tr>\n",
       "      <th>4</th>\n",
       "      <td>武侯</td>\n",
       "      <td>16596.576087</td>\n",
       "    </tr>\n",
       "    <tr>\n",
       "      <th>5</th>\n",
       "      <td>天府新区</td>\n",
       "      <td>15472.585227</td>\n",
       "    </tr>\n",
       "    <tr>\n",
       "      <th>6</th>\n",
       "      <td>金牛</td>\n",
       "      <td>14404.081731</td>\n",
       "    </tr>\n",
       "    <tr>\n",
       "      <th>7</th>\n",
       "      <td>龙泉驿</td>\n",
       "      <td>13811.895954</td>\n",
       "    </tr>\n",
       "    <tr>\n",
       "      <th>8</th>\n",
       "      <td>高新西</td>\n",
       "      <td>13224.500000</td>\n",
       "    </tr>\n",
       "    <tr>\n",
       "      <th>9</th>\n",
       "      <td>双流</td>\n",
       "      <td>12911.649770</td>\n",
       "    </tr>\n",
       "    <tr>\n",
       "      <th>10</th>\n",
       "      <td>郫都</td>\n",
       "      <td>11493.991416</td>\n",
       "    </tr>\n",
       "    <tr>\n",
       "      <th>11</th>\n",
       "      <td>温江</td>\n",
       "      <td>11439.848980</td>\n",
       "    </tr>\n",
       "    <tr>\n",
       "      <th>12</th>\n",
       "      <td>新都</td>\n",
       "      <td>11000.902778</td>\n",
       "    </tr>\n",
       "    <tr>\n",
       "      <th>13</th>\n",
       "      <td>简阳</td>\n",
       "      <td>10369.666667</td>\n",
       "    </tr>\n",
       "    <tr>\n",
       "      <th>14</th>\n",
       "      <td>新津</td>\n",
       "      <td>9001.600000</td>\n",
       "    </tr>\n",
       "    <tr>\n",
       "      <th>15</th>\n",
       "      <td>青白江</td>\n",
       "      <td>6891.625000</td>\n",
       "    </tr>\n",
       "    <tr>\n",
       "      <th>16</th>\n",
       "      <td>彭州</td>\n",
       "      <td>6015.000000</td>\n",
       "    </tr>\n",
       "    <tr>\n",
       "      <th>17</th>\n",
       "      <td>都江堰</td>\n",
       "      <td>5954.500000</td>\n",
       "    </tr>\n",
       "  </tbody>\n",
       "</table>\n",
       "</div>"
      ],
      "text/plain": [
       "   Region  houseSinglePrice\n",
       "0      高新      20794.103774\n",
       "1      锦江      20255.594470\n",
       "2      青羊      18808.614334\n",
       "3      成华      17008.643963\n",
       "4      武侯      16596.576087\n",
       "5    天府新区      15472.585227\n",
       "6      金牛      14404.081731\n",
       "7     龙泉驿      13811.895954\n",
       "8     高新西      13224.500000\n",
       "9      双流      12911.649770\n",
       "10     郫都      11493.991416\n",
       "11     温江      11439.848980\n",
       "12     新都      11000.902778\n",
       "13     简阳      10369.666667\n",
       "14     新津       9001.600000\n",
       "15    青白江       6891.625000\n",
       "16     彭州       6015.000000\n",
       "17    都江堰       5954.500000"
      ]
     },
     "execution_count": 13,
     "metadata": {},
     "output_type": "execute_result"
    }
   ],
   "source": [
    "# 按区域分析数量和价格\n",
    "df_house_mean = house_df.groupby('Region')['houseSinglePrice'].mean().sort_values(ascending=False).to_frame().reset_index()\n",
    "df_house_mean"
   ]
  },
  {
   "cell_type": "code",
   "execution_count": 14,
   "metadata": {},
   "outputs": [
    {
     "data": {
      "text/plain": [
       "<matplotlib.axes._subplots.AxesSubplot at 0x1a221eae48>"
      ]
     },
     "execution_count": 14,
     "metadata": {},
     "output_type": "execute_result"
    },
    {
     "data": {
      "text/plain": [
       "Text(0.5,1,'成都各区二手房每平米单价对比')"
      ]
     },
     "execution_count": 14,
     "metadata": {},
     "output_type": "execute_result"
    },
    {
     "data": {
      "text/plain": [
       "Text(0.5,0,'区域')"
      ]
     },
     "execution_count": 14,
     "metadata": {},
     "output_type": "execute_result"
    },
    {
     "data": {
      "text/plain": [
       "Text(0,0.5,'每平米单价')"
      ]
     },
     "execution_count": 14,
     "metadata": {},
     "output_type": "execute_result"
    },
    {
     "data": {
      "text/plain": [
       "<matplotlib.axes._subplots.AxesSubplot at 0x1a224754a8>"
      ]
     },
     "execution_count": 14,
     "metadata": {},
     "output_type": "execute_result"
    },
    {
     "data": {
      "text/plain": [
       "Text(0.5,1,'成都各区二手房数量对比')"
      ]
     },
     "execution_count": 14,
     "metadata": {},
     "output_type": "execute_result"
    },
    {
     "data": {
      "text/plain": [
       "Text(0.5,0,'区域')"
      ]
     },
     "execution_count": 14,
     "metadata": {},
     "output_type": "execute_result"
    },
    {
     "data": {
      "text/plain": [
       "Text(0,0.5,'数量')"
      ]
     },
     "execution_count": 14,
     "metadata": {},
     "output_type": "execute_result"
    },
    {
     "data": {
      "text/plain": [
       "<matplotlib.axes._subplots.AxesSubplot at 0x1a2249fb70>"
      ]
     },
     "execution_count": 14,
     "metadata": {},
     "output_type": "execute_result"
    },
    {
     "data": {
      "text/plain": [
       "Text(0.5,1,'成都各区二手房房屋总价')"
      ]
     },
     "execution_count": 14,
     "metadata": {},
     "output_type": "execute_result"
    },
    {
     "data": {
      "text/plain": [
       "Text(0.5,0,'区域')"
      ]
     },
     "execution_count": 14,
     "metadata": {},
     "output_type": "execute_result"
    },
    {
     "data": {
      "text/plain": [
       "Text(0,0.5,'房屋总价')"
      ]
     },
     "execution_count": 14,
     "metadata": {},
     "output_type": "execute_result"
    },
    {
     "data": {
      "image/png": "[encoded data removed]",
      "text/plain": [
       "<Figure size 864x1296 with 3 Axes>"
      ]
     },
     "metadata": {
      "needs_background": "light"
     },
     "output_type": "display_data"
    }
   ],
   "source": [
    "f, [ax1, ax2, ax3] = plt.subplots(3, 1, figsize=(12, 18))\n",
    "sns.barplot(x='Region', y='houseSinglePrice', palette='Blues_d', data=df_house_mean, ax=ax1)\n",
    "ax1.set_title('成都各区二手房每平米单价对比')\n",
    "ax1.set_xlabel('区域')\n",
    "ax1.set_ylabel('每平米单价')\n",
    "\n",
    "sns.barplot(x='Region', y='Count', palette='Greens_d', data=df_house_count, ax=ax2)\n",
    "ax2.set_title('成都各区二手房数量对比')\n",
    "ax2.set_xlabel('区域')\n",
    "ax2.set_ylabel('数量')\n",
    "\n",
    "sns.boxplot(x='Region', y='houseTotalMoney', data=house_df, ax=ax3)\n",
    "ax3.set_title('成都各区二手房房屋总价')\n",
    "ax3.set_xlabel('区域')\n",
    "ax3.set_ylabel('房屋总价')\n",
    "\n",
    "plt.savefig('images/img1')\n",
    "plt.show()"
   ]
  },
  {
   "cell_type": "code",
   "execution_count": 36,
   "metadata": {},
   "outputs": [
    {
     "data": {
      "text/plain": [
       "<BarContainer object of 18 artists>"
      ]
     },
     "execution_count": 36,
     "metadata": {},
     "output_type": "execute_result"
    },
    {
     "data": {
      "text/plain": [
       "Text(0.5,1,'成都各区二手房每平米单价对比')"
      ]
     },
     "execution_count": 36,
     "metadata": {},
     "output_type": "execute_result"
    },
    {
     "data": {
      "text/plain": [
       "Text(0.5,0,'区域')"
      ]
     },
     "execution_count": 36,
     "metadata": {},
     "output_type": "execute_result"
    },
    {
     "data": {
      "text/plain": [
       "Text(0,0.5,'每平米单价')"
      ]
     },
     "execution_count": 36,
     "metadata": {},
     "output_type": "execute_result"
    },
    {
     "data": {
      "text/plain": [
       "<BarContainer object of 18 artists>"
      ]
     },
     "execution_count": 36,
     "metadata": {},
     "output_type": "execute_result"
    },
    {
     "data": {
      "text/plain": [
       "Text(0.5,1,'成都各区二手房数量对比')"
      ]
     },
     "execution_count": 36,
     "metadata": {},
     "output_type": "execute_result"
    },
    {
     "data": {
      "text/plain": [
       "Text(0.5,0,'区域')"
      ]
     },
     "execution_count": 36,
     "metadata": {},
     "output_type": "execute_result"
    },
    {
     "data": {
      "text/plain": [
       "Text(0,0.5,'数量')"
      ]
     },
     "execution_count": 36,
     "metadata": {},
     "output_type": "execute_result"
    },
    {
     "data": {
      "text/plain": [
       "{'whiskers': [<matplotlib.lines.Line2D at 0x1a25bce518>,\n",
       "  <matplotlib.lines.Line2D at 0x1a25bd34e0>,\n",
       "  <matplotlib.lines.Line2D at 0x1a25bd9f60>,\n",
       "  <matplotlib.lines.Line2D at 0x1a25be4400>,\n",
       "  <matplotlib.lines.Line2D at 0x1a25be9e80>,\n",
       "  <matplotlib.lines.Line2D at 0x1a25be9f98>,\n",
       "  <matplotlib.lines.Line2D at 0x1a25bfada0>,\n",
       "  <matplotlib.lines.Line2D at 0x1a25bfaeb8>,\n",
       "  <matplotlib.lines.Line2D at 0x1a25c0ccc0>,\n",
       "  <matplotlib.lines.Line2D at 0x1a25c0cdd8>,\n",
       "  <matplotlib.lines.Line2D at 0x1a25c1bbe0>,\n",
       "  <matplotlib.lines.Line2D at 0x1a25c1bcf8>,\n",
       "  <matplotlib.lines.Line2D at 0x1a25c2bb00>,\n",
       "  <matplotlib.lines.Line2D at 0x1a25c2bf60>,\n",
       "  <matplotlib.lines.Line2D at 0x1a25c3ca20>,\n",
       "  <matplotlib.lines.Line2D at 0x1a25c3ce80>,\n",
       "  <matplotlib.lines.Line2D at 0x1a25c4d940>,\n",
       "  <matplotlib.lines.Line2D at 0x1a25c4dda0>,\n",
       "  <matplotlib.lines.Line2D at 0x1a25c5f860>,\n",
       "  <matplotlib.lines.Line2D at 0x1a25c5fcc0>,\n",
       "  <matplotlib.lines.Line2D at 0x1a25c6f780>,\n",
       "  <matplotlib.lines.Line2D at 0x1a25c6fbe0>,\n",
       "  <matplotlib.lines.Line2D at 0x1a25c7e6a0>,\n",
       "  <matplotlib.lines.Line2D at 0x1a25c7eb00>,\n",
       "  <matplotlib.lines.Line2D at 0x1a25c915c0>,\n",
       "  <matplotlib.lines.Line2D at 0x1a25c91a20>,\n",
       "  <matplotlib.lines.Line2D at 0x1a25ca04e0>,\n",
       "  <matplotlib.lines.Line2D at 0x1a25ca0940>,\n",
       "  <matplotlib.lines.Line2D at 0x1a25cb1400>,\n",
       "  <matplotlib.lines.Line2D at 0x1a25cb1860>,\n",
       "  <matplotlib.lines.Line2D at 0x1a25cb9e80>,\n",
       "  <matplotlib.lines.Line2D at 0x1a25cb9d30>,\n",
       "  <matplotlib.lines.Line2D at 0x1a25cc9f28>,\n",
       "  <matplotlib.lines.Line2D at 0x1a25cc9ef0>,\n",
       "  <matplotlib.lines.Line2D at 0x1a25cdccc0>,\n",
       "  <matplotlib.lines.Line2D at 0x1a25cdcdd8>],\n",
       " 'caps': [<matplotlib.lines.Line2D at 0x1a25bd3940>,\n",
       "  <matplotlib.lines.Line2D at 0x1a25bd3da0>,\n",
       "  <matplotlib.lines.Line2D at 0x1a25be4860>,\n",
       "  <matplotlib.lines.Line2D at 0x1a25be4cc0>,\n",
       "  <matplotlib.lines.Line2D at 0x1a25bf2780>,\n",
       "  <matplotlib.lines.Line2D at 0x1a25bf2be0>,\n",
       "  <matplotlib.lines.Line2D at 0x1a25c026a0>,\n",
       "  <matplotlib.lines.Line2D at 0x1a25c02b00>,\n",
       "  <matplotlib.lines.Line2D at 0x1a25c125c0>,\n",
       "  <matplotlib.lines.Line2D at 0x1a25c12a20>,\n",
       "  <matplotlib.lines.Line2D at 0x1a25c254e0>,\n",
       "  <matplotlib.lines.Line2D at 0x1a25c25940>,\n",
       "  <matplotlib.lines.Line2D at 0x1a25c34400>,\n",
       "  <matplotlib.lines.Line2D at 0x1a25c34860>,\n",
       "  <matplotlib.lines.Line2D at 0x1a25c3cf98>,\n",
       "  <matplotlib.lines.Line2D at 0x1a25c44780>,\n",
       "  <matplotlib.lines.Line2D at 0x1a25c4deb8>,\n",
       "  <matplotlib.lines.Line2D at 0x1a25c556a0>,\n",
       "  <matplotlib.lines.Line2D at 0x1a25c5fdd8>,\n",
       "  <matplotlib.lines.Line2D at 0x1a25c655c0>,\n",
       "  <matplotlib.lines.Line2D at 0x1a25c6fcf8>,\n",
       "  <matplotlib.lines.Line2D at 0x1a25c784e0>,\n",
       "  <matplotlib.lines.Line2D at 0x1a25c7ef60>,\n",
       "  <matplotlib.lines.Line2D at 0x1a25c87400>,\n",
       "  <matplotlib.lines.Line2D at 0x1a25c91e80>,\n",
       "  <matplotlib.lines.Line2D at 0x1a25c91f98>,\n",
       "  <matplotlib.lines.Line2D at 0x1a25ca0da0>,\n",
       "  <matplotlib.lines.Line2D at 0x1a25ca0eb8>,\n",
       "  <matplotlib.lines.Line2D at 0x1a25cb1c88>,\n",
       "  <matplotlib.lines.Line2D at 0x1a25cb1da0>,\n",
       "  <matplotlib.lines.Line2D at 0x1a25cc1a20>,\n",
       "  <matplotlib.lines.Line2D at 0x1a25cc1e48>,\n",
       "  <matplotlib.lines.Line2D at 0x1a25cc9ac8>,\n",
       "  <matplotlib.lines.Line2D at 0x1a25cd5be0>,\n",
       "  <matplotlib.lines.Line2D at 0x1a25cdc860>,\n",
       "  <matplotlib.lines.Line2D at 0x1a25ce3978>],\n",
       " 'boxes': [<matplotlib.lines.Line2D at 0x1a25bce390>,\n",
       "  <matplotlib.lines.Line2D at 0x1a25bd9b00>,\n",
       "  <matplotlib.lines.Line2D at 0x1a25be9a20>,\n",
       "  <matplotlib.lines.Line2D at 0x1a25bfa940>,\n",
       "  <matplotlib.lines.Line2D at 0x1a25c0c860>,\n",
       "  <matplotlib.lines.Line2D at 0x1a25c1b780>,\n",
       "  <matplotlib.lines.Line2D at 0x1a25c2b6a0>,\n",
       "  <matplotlib.lines.Line2D at 0x1a25c3c5c0>,\n",
       "  <matplotlib.lines.Line2D at 0x1a25c4d4e0>,\n",
       "  <matplotlib.lines.Line2D at 0x1a25c5f400>,\n",
       "  <matplotlib.lines.Line2D at 0x1a25c65f60>,\n",
       "  <matplotlib.lines.Line2D at 0x1a25c78e80>,\n",
       "  <matplotlib.lines.Line2D at 0x1a25c87da0>,\n",
       "  <matplotlib.lines.Line2D at 0x1a25c99cc0>,\n",
       "  <matplotlib.lines.Line2D at 0x1a25ca8f60>,\n",
       "  <matplotlib.lines.Line2D at 0x1a25cb9d68>,\n",
       "  <matplotlib.lines.Line2D at 0x1a25cc9b00>,\n",
       "  <matplotlib.lines.Line2D at 0x1a25cdc898>],\n",
       " 'medians': [<matplotlib.lines.Line2D at 0x1a25bd3eb8>,\n",
       "  <matplotlib.lines.Line2D at 0x1a25be4dd8>,\n",
       "  <matplotlib.lines.Line2D at 0x1a25bf2cf8>,\n",
       "  <matplotlib.lines.Line2D at 0x1a25c02f60>,\n",
       "  <matplotlib.lines.Line2D at 0x1a25c12e80>,\n",
       "  <matplotlib.lines.Line2D at 0x1a25c25da0>,\n",
       "  <matplotlib.lines.Line2D at 0x1a25c34cc0>,\n",
       "  <matplotlib.lines.Line2D at 0x1a25c44be0>,\n",
       "  <matplotlib.lines.Line2D at 0x1a25c55b00>,\n",
       "  <matplotlib.lines.Line2D at 0x1a25c65a20>,\n",
       "  <matplotlib.lines.Line2D at 0x1a25c78940>,\n",
       "  <matplotlib.lines.Line2D at 0x1a25c87860>,\n",
       "  <matplotlib.lines.Line2D at 0x1a25c99780>,\n",
       "  <matplotlib.lines.Line2D at 0x1a25ca86a0>,\n",
       "  <matplotlib.lines.Line2D at 0x1a25cb1828>,\n",
       "  <matplotlib.lines.Line2D at 0x1a25cc1f60>,\n",
       "  <matplotlib.lines.Line2D at 0x1a25cd5cf8>,\n",
       "  <matplotlib.lines.Line2D at 0x1a25ce3da0>],\n",
       " 'fliers': [<matplotlib.lines.Line2D at 0x1a25bd96a0>,\n",
       "  <matplotlib.lines.Line2D at 0x1a25be95c0>,\n",
       "  <matplotlib.lines.Line2D at 0x1a25bfa4e0>,\n",
       "  <matplotlib.lines.Line2D at 0x1a25c0c400>,\n",
       "  <matplotlib.lines.Line2D at 0x1a25c12f98>,\n",
       "  <matplotlib.lines.Line2D at 0x1a25c25eb8>,\n",
       "  <matplotlib.lines.Line2D at 0x1a25c34dd8>,\n",
       "  <matplotlib.lines.Line2D at 0x1a25c44cf8>,\n",
       "  <matplotlib.lines.Line2D at 0x1a25c55f60>,\n",
       "  <matplotlib.lines.Line2D at 0x1a25c65e80>,\n",
       "  <matplotlib.lines.Line2D at 0x1a25c78da0>,\n",
       "  <matplotlib.lines.Line2D at 0x1a25c87cc0>,\n",
       "  <matplotlib.lines.Line2D at 0x1a25c99be0>,\n",
       "  <matplotlib.lines.Line2D at 0x1a25ca8b00>,\n",
       "  <matplotlib.lines.Line2D at 0x1a25cb9940>,\n",
       "  <matplotlib.lines.Line2D at 0x1a25cc1198>,\n",
       "  <matplotlib.lines.Line2D at 0x1a25cd5fd0>,\n",
       "  <matplotlib.lines.Line2D at 0x1a25ce3eb8>],\n",
       " 'means': []}"
      ]
     },
     "execution_count": 36,
     "metadata": {},
     "output_type": "execute_result"
    },
    {
     "data": {
      "text/plain": [
       "Text(0.5,1,'成都各区二手房房屋总价')"
      ]
     },
     "execution_count": 36,
     "metadata": {},
     "output_type": "execute_result"
    },
    {
     "data": {
      "text/plain": [
       "Text(0.5,0,'区域')"
      ]
     },
     "execution_count": 36,
     "metadata": {},
     "output_type": "execute_result"
    },
    {
     "data": {
      "text/plain": [
       "Text(0,0.5,'房屋总价')"
      ]
     },
     "execution_count": 36,
     "metadata": {},
     "output_type": "execute_result"
    },
    {
     "data": {
      "image/png": "[encoded data removed]",
      "text/plain": [
       "<Figure size 864x1296 with 3 Axes>"
      ]
     },
     "metadata": {
      "needs_background": "light"
     },
     "output_type": "display_data"
    }
   ],
   "source": [
    "# Matplotlib实现\n",
    "f, [ax1, ax2, ax3] = plt.subplots(3, 1, figsize=(12, 18))\n",
    "ax1.bar('Region', 'houseSinglePrice', data=df_house_mean)\n",
    "ax1.set_title('成都各区二手房每平米单价对比')\n",
    "ax1.set_xlabel('区域')\n",
    "ax1.set_ylabel('每平米单价')\n",
    "\n",
    "ax2.bar('Region', 'Count', data=df_house_count)\n",
    "ax2.set_title('成都各区二手房数量对比')\n",
    "ax2.set_xlabel('区域')\n",
    "ax2.set_ylabel('数量')\n",
    "\n",
    "\n",
    "box_data = house_df.groupby('Region')['houseTotalMoney'].groups\n",
    "ax3.boxplot(box_data.values(), labels=box_data.keys())\n",
    "ax3.set_title('成都各区二手房房屋总价')\n",
    "ax3.set_xlabel('区域')\n",
    "ax3.set_ylabel('房屋总价')\n",
    "\n",
    "plt.savefig('images/img1')\n",
    "plt.show()"
   ]
  },
  {
   "cell_type": "markdown",
   "metadata": {},
   "source": [
    "---\n",
    "# 房屋面积分析"
   ]
  },
  {
   "cell_type": "code",
   "execution_count": 43,
   "metadata": {},
   "outputs": [
    {
     "name": "stderr",
     "output_type": "stream",
     "text": [
      "/anaconda3/lib/python3.7/site-packages/scipy/stats/stats.py:1713: FutureWarning: Using a non-tuple sequence for multidimensional indexing is deprecated; use `arr[tuple(seq)]` instead of `arr[seq]`. In the future this will be interpreted as an array index, `arr[np.array(seq)]`, which will result either in an error or a different result.\n",
      "  return np.add.reduce(sorted[indexer] * weights, axis=axis) / sumval\n"
     ]
    },
    {
     "data": {
      "text/plain": [
       "<matplotlib.axes._subplots.AxesSubplot at 0x1a2718d7b8>"
      ]
     },
     "execution_count": 43,
     "metadata": {},
     "output_type": "execute_result"
    },
    {
     "data": {
      "text/plain": [
       "<matplotlib.axes._subplots.AxesSubplot at 0x1a2718d7b8>"
      ]
     },
     "execution_count": 43,
     "metadata": {},
     "output_type": "execute_result"
    },
    {
     "data": {
      "text/plain": [
       "Text(0.5,0,'面积')"
      ]
     },
     "execution_count": 43,
     "metadata": {},
     "output_type": "execute_result"
    },
    {
     "data": {
      "text/plain": [
       "<matplotlib.axes._subplots.AxesSubplot at 0x1a271c9198>"
      ]
     },
     "execution_count": 43,
     "metadata": {},
     "output_type": "execute_result"
    },
    {
     "data": {
      "text/plain": [
       "Text(0.5,0,'面积')"
      ]
     },
     "execution_count": 43,
     "metadata": {},
     "output_type": "execute_result"
    },
    {
     "data": {
      "text/plain": [
       "Text(0,0.5,'总价')"
      ]
     },
     "execution_count": 43,
     "metadata": {},
     "output_type": "execute_result"
    },
    {
     "data": {
      "image/png": "[encoded data removed]",
      "text/plain": [
       "<Figure size 1152x432 with 2 Axes>"
      ]
     },
     "metadata": {
      "needs_background": "light"
     },
     "output_type": "display_data"
    }
   ],
   "source": [
    "f, [ax1,ax2] = plt.subplots(1, 2, figsize=(16, 6))\n",
    "# 房屋面积\n",
    "sns.distplot(house_df['houseBuildingArea'], ax=ax1, color='r')\n",
    "sns.kdeplot(house_df['houseBuildingArea'], shade=True, ax=ax1)\n",
    "ax1.set_xlabel('面积')\n",
    "\n",
    "# 房屋面积和价格的关系\n",
    "sns.regplot(x='houseBuildingArea', y='houseTotalMoney', data=house_df, ax=ax2)\n",
    "ax2.set_xlabel('面积')\n",
    "ax2.set_ylabel('总价')\n",
    "\n",
    "plt.savefig('images/img2')\n",
    "plt.show()"
   ]
  },
  {
   "cell_type": "code",
   "execution_count": 49,
   "metadata": {},
   "outputs": [
    {
     "data": {
      "text/plain": [
       "(array([  7.,  31.,  75., 130., 172., 223., 314., 391., 571., 162., 132.,\n",
       "        129., 122., 113.,  94.,  66.,  49.,  25.,  22.,   7.,  13.,   6.,\n",
       "          7.,   5.,   4.,   3.,   2.,   1.,   3.,   1.,   0.,   2.,   1.,\n",
       "          0.,   1.,   1.,   0.,   0.,   0.,   0.,   0.,   0.,   0.,   0.,\n",
       "          0.,   0.,   0.,   0.,   0.,   1.]),\n",
       " array([ 28.51  ,  35.5398,  42.5696,  49.5994,  56.6292,  63.659 ,\n",
       "         70.6888,  77.7186,  84.7484,  91.7782,  98.808 , 105.8378,\n",
       "        112.8676, 119.8974, 126.9272, 133.957 , 140.9868, 148.0166,\n",
       "        155.0464, 162.0762, 169.106 , 176.1358, 183.1656, 190.1954,\n",
       "        197.2252, 204.255 , 211.2848, 218.3146, 225.3444, 232.3742,\n",
       "        239.404 , 246.4338, 253.4636, 260.4934, 267.5232, 274.553 ,\n",
       "        281.5828, 288.6126, 295.6424, 302.6722, 309.702 , 316.7318,\n",
       "        323.7616, 330.7914, 337.8212, 344.851 , 351.8808, 358.9106,\n",
       "        365.9404, 372.9702, 380.    ]),\n",
       " <a list of 50 Patch objects>)"
      ]
     },
     "execution_count": 49,
     "metadata": {},
     "output_type": "execute_result"
    },
    {
     "data": {
      "text/plain": [
       "Text(0.5,0,'面积')"
      ]
     },
     "execution_count": 49,
     "metadata": {},
     "output_type": "execute_result"
    },
    {
     "data": {
      "text/plain": [
       "<matplotlib.collections.PathCollection at 0x1a28477128>"
      ]
     },
     "execution_count": 49,
     "metadata": {},
     "output_type": "execute_result"
    },
    {
     "data": {
      "text/plain": [
       "Text(0.5,0,'面积')"
      ]
     },
     "execution_count": 49,
     "metadata": {},
     "output_type": "execute_result"
    },
    {
     "data": {
      "text/plain": [
       "Text(0,0.5,'总价')"
      ]
     },
     "execution_count": 49,
     "metadata": {},
     "output_type": "execute_result"
    },
    {
     "data": {
      "image/png": "[encoded data removed]",
      "text/plain": [
       "<Figure size 1152x432 with 2 Axes>"
      ]
     },
     "metadata": {
      "needs_background": "light"
     },
     "output_type": "display_data"
    }
   ],
   "source": [
    "# matplotlib\n",
    "f, [ax1,ax2] = plt.subplots(1, 2, figsize=(16, 6))\n",
    "# 房屋面积\n",
    "ax1.hist(house_df['houseBuildingArea'], bins=50, color='r')\n",
    "ax1.set_xlabel('面积')\n",
    "\n",
    "# 房屋面积和价格的关系\n",
    "ax2.scatter(x='houseBuildingArea', y='houseTotalMoney', data=house_df)\n",
    "ax2.set_xlabel('面积')\n",
    "ax2.set_ylabel('总价')\n",
    "\n",
    "plt.savefig('images/img2')\n",
    "plt.show()"
   ]
  },
  {
   "cell_type": "markdown",
   "metadata": {},
   "source": [
    "---\n",
    "# 户型分析"
   ]
  },
  {
   "cell_type": "code",
   "execution_count": 50,
   "metadata": {},
   "outputs": [
    {
     "data": {
      "text/plain": [
       "<matplotlib.axes._subplots.AxesSubplot at 0x1a284b2898>"
      ]
     },
     "execution_count": 50,
     "metadata": {},
     "output_type": "execute_result"
    },
    {
     "data": {
      "text/plain": [
       "Text(0.5,1,'房屋户型')"
      ]
     },
     "execution_count": 50,
     "metadata": {},
     "output_type": "execute_result"
    },
    {
     "data": {
      "text/plain": [
       "Text(0.5,0,'数量')"
      ]
     },
     "execution_count": 50,
     "metadata": {},
     "output_type": "execute_result"
    },
    {
     "data": {
      "text/plain": [
       "Text(0,0.5,'户型')"
      ]
     },
     "execution_count": 50,
     "metadata": {},
     "output_type": "execute_result"
    },
    {
     "data": {
      "image/png": "[encoded data removed]",
      "text/plain": [
       "<Figure size 864x864 with 1 Axes>"
      ]
     },
     "metadata": {
      "needs_background": "light"
     },
     "output_type": "display_data"
    }
   ],
   "source": [
    "f, ax1 = plt.subplots(figsize=(12,12))\n",
    "sns.countplot(y='houseType', data=house_df, ax=ax1)\n",
    "ax1.set_title('房屋户型', fontsize=15)\n",
    "ax1.set_xlabel('数量')\n",
    "ax1.set_ylabel('户型')\n",
    "\n",
    "plt.savefig('images/img3')\n",
    "plt.show()"
   ]
  },
  {
   "cell_type": "code",
   "execution_count": 72,
   "metadata": {},
   "outputs": [
    {
     "data": {
      "text/plain": [
       "<BarContainer object of 38 artists>"
      ]
     },
     "execution_count": 72,
     "metadata": {},
     "output_type": "execute_result"
    },
    {
     "data": {
      "text/plain": [
       "Text(0.5,1,'房屋户型')"
      ]
     },
     "execution_count": 72,
     "metadata": {},
     "output_type": "execute_result"
    },
    {
     "data": {
      "text/plain": [
       "Text(0.5,0,'数量')"
      ]
     },
     "execution_count": 72,
     "metadata": {},
     "output_type": "execute_result"
    },
    {
     "data": {
      "text/plain": [
       "Text(0,0.5,'户型')"
      ]
     },
     "execution_count": 72,
     "metadata": {},
     "output_type": "execute_result"
    },
    {
     "data": {
      "image/png": "[encoded data removed]",
      "text/plain": [
       "<Figure size 864x864 with 1 Axes>"
      ]
     },
     "metadata": {
      "needs_background": "light"
     },
     "output_type": "display_data"
    }
   ],
   "source": [
    "# matplotlib\n",
    "f, ax1 = plt.subplots(figsize=(12,12))\n",
    "\n",
    "countplot = house_df.groupby('houseType')['houseId'].groups\n",
    "width = [len(i) for i in countplot.values()]\n",
    "\n",
    "ax1.barh(list(countplot.keys()), width)\n",
    "ax1.set_title('房屋户型', fontsize=15)\n",
    "ax1.set_xlabel('数量')\n",
    "ax1.set_ylabel('户型')\n",
    "\n",
    "plt.savefig('images/img3')\n",
    "plt.show()"
   ]
  },
  {
   "cell_type": "markdown",
   "metadata": {},
   "source": [
    "---\n",
    "# 装修情况分析"
   ]
  },
  {
   "cell_type": "code",
   "execution_count": 73,
   "metadata": {},
   "outputs": [
    {
     "data": {
      "text/plain": [
       "精装    1419\n",
       "简装    1014\n",
       "毛坯     444\n",
       "其他       9\n",
       "Name: houseDecoration, dtype: int64"
      ]
     },
     "execution_count": 73,
     "metadata": {},
     "output_type": "execute_result"
    }
   ],
   "source": [
    "house_df['houseDecoration'].value_counts()"
   ]
  },
  {
   "cell_type": "code",
   "execution_count": 74,
   "metadata": {},
   "outputs": [
    {
     "data": {
      "text/plain": [
       "<matplotlib.axes._subplots.AxesSubplot at 0x1a2aaab518>"
      ]
     },
     "execution_count": 74,
     "metadata": {},
     "output_type": "execute_result"
    },
    {
     "name": "stderr",
     "output_type": "stream",
     "text": [
      "/anaconda3/lib/python3.7/site-packages/scipy/stats/stats.py:1713: FutureWarning: Using a non-tuple sequence for multidimensional indexing is deprecated; use `arr[tuple(seq)]` instead of `arr[seq]`. In the future this will be interpreted as an array index, `arr[np.array(seq)]`, which will result either in an error or a different result.\n",
      "  return np.add.reduce(sorted[indexer] * weights, axis=axis) / sumval\n"
     ]
    },
    {
     "data": {
      "text/plain": [
       "<matplotlib.axes._subplots.AxesSubplot at 0x1a2adc4cc0>"
      ]
     },
     "execution_count": 74,
     "metadata": {},
     "output_type": "execute_result"
    },
    {
     "data": {
      "text/plain": [
       "<matplotlib.axes._subplots.AxesSubplot at 0x1a2adf1780>"
      ]
     },
     "execution_count": 74,
     "metadata": {},
     "output_type": "execute_result"
    },
    {
     "data": {
      "image/png": "[encoded data removed]",
      "text/plain": [
       "<Figure size 1440x360 with 3 Axes>"
      ]
     },
     "metadata": {
      "needs_background": "light"
     },
     "output_type": "display_data"
    }
   ],
   "source": [
    "f, [ax1,ax2,ax3] = plt.subplots(1, 3, figsize=(20, 5))\n",
    "sns.countplot(house_df['houseDecoration'], ax=ax1)\n",
    "sns.barplot(x='houseDecoration', y='houseTotalMoney', data=house_df, ax=ax2)\n",
    "sns.boxplot(x='houseDecoration', y='houseTotalMoney', data=house_df, ax=ax3)\n",
    "\n",
    "plt.savefig('images/img4')\n",
    "plt.show()"
   ]
  },
  {
   "cell_type": "markdown",
   "metadata": {},
   "source": [
    "---\n",
    "# 电梯分析"
   ]
  },
  {
   "cell_type": "code",
   "execution_count": 85,
   "metadata": {},
   "outputs": [
    {
     "data": {
      "text/plain": [
       "有       2282\n",
       "无        425\n",
       "暂无数据     179\n",
       "Name: houseElevator, dtype: int64"
      ]
     },
     "execution_count": 85,
     "metadata": {},
     "output_type": "execute_result"
    }
   ],
   "source": [
    "house_df['houseElevator'].value_counts()"
   ]
  },
  {
   "cell_type": "code",
   "execution_count": 86,
   "metadata": {},
   "outputs": [
    {
     "data": {
      "text/plain": [
       "有    2282\n",
       "无     425\n",
       "Name: houseElevator, dtype: int64"
      ]
     },
     "execution_count": 86,
     "metadata": {},
     "output_type": "execute_result"
    }
   ],
   "source": [
    "elevator_df = house_df[house_df['houseElevator'] != '暂无数据']\n",
    "elevator_df['houseElevator'].value_counts()"
   ]
  },
  {
   "cell_type": "code",
   "execution_count": 87,
   "metadata": {},
   "outputs": [
    {
     "data": {
      "text/plain": [
       "<matplotlib.axes._subplots.AxesSubplot at 0x1a28f51908>"
      ]
     },
     "execution_count": 87,
     "metadata": {},
     "output_type": "execute_result"
    },
    {
     "data": {
      "text/plain": [
       "Text(0.5,1,'有无电梯数量对比')"
      ]
     },
     "execution_count": 87,
     "metadata": {},
     "output_type": "execute_result"
    },
    {
     "data": {
      "text/plain": [
       "Text(0.5,0,'是否有电梯')"
      ]
     },
     "execution_count": 87,
     "metadata": {},
     "output_type": "execute_result"
    },
    {
     "data": {
      "text/plain": [
       "Text(0,0.5,'数量')"
      ]
     },
     "execution_count": 87,
     "metadata": {},
     "output_type": "execute_result"
    },
    {
     "name": "stderr",
     "output_type": "stream",
     "text": [
      "/anaconda3/lib/python3.7/site-packages/scipy/stats/stats.py:1713: FutureWarning: Using a non-tuple sequence for multidimensional indexing is deprecated; use `arr[tuple(seq)]` instead of `arr[seq]`. In the future this will be interpreted as an array index, `arr[np.array(seq)]`, which will result either in an error or a different result.\n",
      "  return np.add.reduce(sorted[indexer] * weights, axis=axis) / sumval\n"
     ]
    },
    {
     "data": {
      "text/plain": [
       "<matplotlib.axes._subplots.AxesSubplot at 0x1a29f69b70>"
      ]
     },
     "execution_count": 87,
     "metadata": {},
     "output_type": "execute_result"
    },
    {
     "data": {
      "text/plain": [
       "Text(0.5,1,'有无电梯房价对比')"
      ]
     },
     "execution_count": 87,
     "metadata": {},
     "output_type": "execute_result"
    },
    {
     "data": {
      "text/plain": [
       "Text(0.5,0,'是否有电梯')"
      ]
     },
     "execution_count": 87,
     "metadata": {},
     "output_type": "execute_result"
    },
    {
     "data": {
      "text/plain": [
       "Text(0,0.5,'单价')"
      ]
     },
     "execution_count": 87,
     "metadata": {},
     "output_type": "execute_result"
    },
    {
     "data": {
      "image/png": "[encoded data removed]",
      "text/plain": [
       "<Figure size 1152x576 with 2 Axes>"
      ]
     },
     "metadata": {
      "needs_background": "light"
     },
     "output_type": "display_data"
    }
   ],
   "source": [
    "f, [ax1, ax2] = plt.subplots(1, 2, figsize=(16, 8))\n",
    "sns.countplot(elevator_df['houseElevator'], ax=ax1)\n",
    "ax1.set_title('有无电梯数量对比', fontsize=15)\n",
    "ax1.set_xlabel('是否有电梯')\n",
    "ax1.set_ylabel('数量')\n",
    "\n",
    "sns.barplot(x='houseElevator', y='houseSinglePrice', data=elevator_df, ax=ax2)\n",
    "ax2.set_title('有无电梯房价对比')\n",
    "ax2.set_xlabel('是否有电梯')\n",
    "ax2.set_ylabel('单价')\n",
    "\n",
    "plt.savefig('images/img5')\n",
    "plt.show()"
   ]
  },
  {
   "cell_type": "markdown",
   "metadata": {},
   "source": [
    "---\n",
    "# 楼层分析"
   ]
  },
  {
   "cell_type": "code",
   "execution_count": 83,
   "metadata": {},
   "outputs": [
    {
     "data": {
      "text/plain": [
       "<matplotlib.axes._subplots.AxesSubplot at 0x1a2b9a0780>"
      ]
     },
     "execution_count": 83,
     "metadata": {},
     "output_type": "execute_result"
    },
    {
     "data": {
      "text/plain": [
       "Text(0.5,1,'房屋楼层')"
      ]
     },
     "execution_count": 83,
     "metadata": {},
     "output_type": "execute_result"
    },
    {
     "data": {
      "text/plain": [
       "Text(0.5,0,'总楼层')"
      ]
     },
     "execution_count": 83,
     "metadata": {},
     "output_type": "execute_result"
    },
    {
     "data": {
      "text/plain": [
       "Text(0,0.5,'数量')"
      ]
     },
     "execution_count": 83,
     "metadata": {},
     "output_type": "execute_result"
    },
    {
     "data": {
      "image/png": "[encoded data removed]",
      "text/plain": [
       "<Figure size 1440x360 with 1 Axes>"
      ]
     },
     "metadata": {
      "needs_background": "light"
     },
     "output_type": "display_data"
    }
   ],
   "source": [
    "f, ax1 = plt.subplots(figsize=(20,5))\n",
    "sns.countplot(x='totalFloor', data=house_df, ax=ax1)\n",
    "ax1.set_title('房屋楼层',fontsize=15)\n",
    "ax1.set_xlabel('总楼层')\n",
    "ax1.set_ylabel('数量')\n",
    "\n",
    "plt.savefig('images/img6')\n",
    "plt.show()"
   ]
  },
  {
   "cell_type": "code",
   "execution_count": 90,
   "metadata": {},
   "outputs": [
    {
     "data": {
      "text/plain": [
       "<BarContainer object of 49 artists>"
      ]
     },
     "execution_count": 90,
     "metadata": {},
     "output_type": "execute_result"
    },
    {
     "data": {
      "text/plain": [
       "Text(0.5,1,'房屋楼层')"
      ]
     },
     "execution_count": 90,
     "metadata": {},
     "output_type": "execute_result"
    },
    {
     "data": {
      "text/plain": [
       "Text(0.5,0,'总楼层')"
      ]
     },
     "execution_count": 90,
     "metadata": {},
     "output_type": "execute_result"
    },
    {
     "data": {
      "text/plain": [
       "Text(0,0.5,'数量')"
      ]
     },
     "execution_count": 90,
     "metadata": {},
     "output_type": "execute_result"
    },
    {
     "data": {
      "image/png": "[encoded data removed]",
      "text/plain": [
       "<Figure size 1440x360 with 1 Axes>"
      ]
     },
     "metadata": {
      "needs_background": "light"
     },
     "output_type": "display_data"
    }
   ],
   "source": [
    "f, ax1 = plt.subplots(figsize=(20,5))\n",
    "\n",
    "countplot = house_df.groupby('totalFloor')['houseId'].groups\n",
    "height = [len(i) for i in countplot.values()]\n",
    "\n",
    "ax1.bar(countplot.keys(), height)\n",
    "ax1.set_title('房屋楼层',fontsize=15)\n",
    "ax1.set_xlabel('总楼层')\n",
    "ax1.set_ylabel('数量')\n",
    "\n",
    "plt.savefig('images/img6')\n",
    "plt.show()"
   ]
  }
 ],
 "metadata": {
  "kernelspec": {
   "display_name": "Python 3",
   "language": "python",
   "name": "python3"
  },
  "language_info": {
   "codemirror_mode": {
    "name": "ipython",
    "version": 3
   },
   "file_extension": ".py",
   "mimetype": "text/x-python",
   "name": "python",
   "nbconvert_exporter": "python",
   "pygments_lexer": "ipython3",
   "version": "3.7.0"
  }
 },
 "nbformat": 4,
 "nbformat_minor": 2
}
